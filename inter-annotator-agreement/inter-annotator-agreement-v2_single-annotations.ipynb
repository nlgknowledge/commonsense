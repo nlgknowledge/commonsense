{
 "cells": [
  {
   "cell_type": "markdown",
   "metadata": {
    "pycharm": {
     "name": "#%% md\n"
    }
   },
   "source": [
    "# Inter-annotator Agreement v2.1\n",
    "\n",
    "This notebook is a modified version based on the [IAA notebook](https://github.com/evalgenchal/20Y-CHEC/blob/main/inter-annotator-agreement/inter-annotator-agreement-v2_single-annotations.ipynb)\n",
    "used in the [Twenty Years of Confusion in Human Evaluation](https://www.aclweb.org/anthology/2020.inlg-1.23.pdf)\n",
    "research paper.\n",
    "\n",
    "The annotation team formalized our annotation guidelines in July 2020.\n",
    "We then annotated 10 papers from ACL 2020 according to these new guidelines to get an idea of the degree of inter-annotator agreement;\n",
    "this gives us a sense of how reliable the new guidelines and our annotations are.\n",
    "The results were disappointing so we iterated on our guidelines and annotation spreadsheets and did another round of 10 papers.\n",
    "This document reports on our IAA for these 10 papers.\n",
    "\n",
    "In this notebook, we import data from our spreadsheets and do a bit of preprocessing so that we can calculate IAA easily using `nltk`.\n",
    "\n",
    "We calculate [Krippendorff's alpha]() using [MASI distance]() and [Jaccard distance]().\n",
    "We also include raw pair-wise agreement scores.\n",
    "\n",
    "Note that we are not doing any hypothesis testing here, so you will not see any significance scores.\n",
    "These are strictly descriptive statistics.\n",
    "\n",
    "## Preliminaries\n",
    "\n",
    "Our original annotations were collected using [Google Sheets]() so we used `gspread` to interact with Google Sheets, `nltk` to calculate $\\alpha$, and `pandas` to manage our data.\n",
    "These spreadsheets are not public, but the data from them is released in the CSV files in this repo.\n",
    "\n",
    "The code below can be used to analyse either the 5 \"expert\" annotators or all 9 annotators' data."
   ]
  },
  {
   "cell_type": "code",
   "execution_count": 1,
   "metadata": {},
   "outputs": [],
   "source": [
    "import iaa_utilities\n",
    "import pandas as pd\n",
    "import re\n",
    "\n",
    "from nltk.metrics.agreement import AnnotationTask\n",
    "from nltk.metrics import edit_distance, jaccard_distance, masi_distance\n",
    "\n",
    "from IPython.display import display\n",
    "from IPython.core.interactiveshell import InteractiveShell\n",
    "InteractiveShell.ast_node_interactivity = \"all\"\n",
    "\n"
   ]
  },
  {
   "cell_type": "code",
   "execution_count": 2,
   "outputs": [
    {
     "data": {
      "text/plain": "   source_spreadsheet                key annotator date_annotated  \\\n0                   1  2020.acl-main.711     anno1       26/01/21   \n1                   1  2020.acl-main.711     anno1       26/01/21   \n\n  annotation_comments exclude  time_taken pub_venue         pub_authors  \\\n0                 NaN     NaN         NaN       ACL  Chakrabarty et al.   \n1                 NaN     NaN         NaN       ACL  Chakrabarty et al.   \n\n   pub_year  ... op_instrument_size op_instrument_type op_data_type  \\\n0      2020  ...                NaN    text annotation         text   \n1      2020  ...                NaN      rank ordering   rank order   \n\n                                      op_form op_question_prompt_verbatim  \\\n0  evaluation through post-editing/annotation                         NaN   \n1                 relative quality estimation                         NaN   \n\n  op_statistics criterion_verbatim criterion_definition_verbatim  \\\n0           NaN                NaN                           NaN   \n1           NaN                NaN                           NaN   \n\n                                criterion_paraphrase  \\\n0                                                NaN   \n1  ------ 39h. Goodness of outputs relative to li...   \n\n                                  criterion_external  \n0  Retrieving Sentences Containing\\nCommonsense C...  \n1                                                NaN  \n\n[2 rows x 30 columns]",
      "text/html": "<div>\n<style scoped>\n    .dataframe tbody tr th:only-of-type {\n        vertical-align: middle;\n    }\n\n    .dataframe tbody tr th {\n        vertical-align: top;\n    }\n\n    .dataframe thead th {\n        text-align: right;\n    }\n</style>\n<table border=\"1\" class=\"dataframe\">\n  <thead>\n    <tr style=\"text-align: right;\">\n      <th></th>\n      <th>source_spreadsheet</th>\n      <th>key</th>\n      <th>annotator</th>\n      <th>date_annotated</th>\n      <th>annotation_comments</th>\n      <th>exclude</th>\n      <th>time_taken</th>\n      <th>pub_venue</th>\n      <th>pub_authors</th>\n      <th>pub_year</th>\n      <th>...</th>\n      <th>op_instrument_size</th>\n      <th>op_instrument_type</th>\n      <th>op_data_type</th>\n      <th>op_form</th>\n      <th>op_question_prompt_verbatim</th>\n      <th>op_statistics</th>\n      <th>criterion_verbatim</th>\n      <th>criterion_definition_verbatim</th>\n      <th>criterion_paraphrase</th>\n      <th>criterion_external</th>\n    </tr>\n  </thead>\n  <tbody>\n    <tr>\n      <th>0</th>\n      <td>1</td>\n      <td>2020.acl-main.711</td>\n      <td>anno1</td>\n      <td>26/01/21</td>\n      <td>NaN</td>\n      <td>NaN</td>\n      <td>NaN</td>\n      <td>ACL</td>\n      <td>Chakrabarty et al.</td>\n      <td>2020</td>\n      <td>...</td>\n      <td>NaN</td>\n      <td>text annotation</td>\n      <td>text</td>\n      <td>evaluation through post-editing/annotation</td>\n      <td>NaN</td>\n      <td>NaN</td>\n      <td>NaN</td>\n      <td>NaN</td>\n      <td>NaN</td>\n      <td>Retrieving Sentences Containing\\nCommonsense C...</td>\n    </tr>\n    <tr>\n      <th>1</th>\n      <td>1</td>\n      <td>2020.acl-main.711</td>\n      <td>anno1</td>\n      <td>26/01/21</td>\n      <td>NaN</td>\n      <td>NaN</td>\n      <td>NaN</td>\n      <td>ACL</td>\n      <td>Chakrabarty et al.</td>\n      <td>2020</td>\n      <td>...</td>\n      <td>NaN</td>\n      <td>rank ordering</td>\n      <td>rank order</td>\n      <td>relative quality estimation</td>\n      <td>NaN</td>\n      <td>NaN</td>\n      <td>NaN</td>\n      <td>NaN</td>\n      <td>------ 39h. Goodness of outputs relative to li...</td>\n      <td>NaN</td>\n    </tr>\n  </tbody>\n</table>\n<p>2 rows × 30 columns</p>\n</div>"
     },
     "execution_count": 2,
     "metadata": {},
     "output_type": "execute_result"
    }
   ],
   "source": [
    "# Read commonsense IAA CSV sheet:\n",
    "annotation_df = pd.read_csv(\"iaa-commonsense_v2.csv\")\n",
    "annotation_df.head(2)"
   ],
   "metadata": {
    "collapsed": false,
    "pycharm": {
     "name": "#%%\n"
    }
   }
  },
  {
   "cell_type": "markdown",
   "metadata": {
    "pycharm": {
     "name": "#%% md\n"
    }
   },
   "source": [
    "### Cleaning the dataset\n",
    "\n",
    "We keep the code used to clean up superficial differences between the different annotators that we needed to handle for the first round of IAA:\n",
    "\n",
    "1. some annotators left whole rows blank; and\n",
    "2. annotator paraphrase of definition was often left blank, as was the column for statistics. blank entries compare poorly on set-distance metrics so we will replace these with \"~*EMPTY*~\""
   ]
  },
  {
   "cell_type": "code",
   "execution_count": 4,
   "metadata": {
    "pycharm": {
     "name": "#%%\n"
    }
   },
   "outputs": [],
   "source": [
    "no_values = pd.DataFrame(annotation_df.loc[:,'system_language':'op_statistics']).any(axis = 1)\n",
    "annotation_df = annotation_df[no_values]\n",
    "\n",
    "annotation_df.replace(\"^\\s$\", \"~*empty*~\", inplace=True)\n",
    "annotation_df.fillna(\"~*empty*~\", inplace=True)\n",
    "\n",
    "for column in iaa_utilities.IAAv2SpreadsheetScheme.OPEN_CLASS_COLUMNS:\n",
    "    annotation_df[column] = annotation_df[column].astype(str)\n",
    "    annotation_df[column] = annotation_df[column].str.lower()"
   ]
  },
  {
   "cell_type": "markdown",
   "metadata": {
    "pycharm": {
     "name": "#%% md\n"
    }
   },
   "source": [
    "For the second round of IAA, in addition to updating the guidelines, we updated the spreadsheet to have dropdown menus for the criteria names and other columns.\n",
    "For the `criterion_paraphrase` column, this included the enumeration from the guidelines, as well as value-initial hyphens to get some degree of indentation indicative of the overall hierarchy.\n",
    "We therefore need to do a bunch of normalization for the criterion_paraphrase column to remove the hyphens and numbers."
   ]
  },
  {
   "cell_type": "code",
   "execution_count": 5,
   "metadata": {
    "pycharm": {
     "name": "#%%\n"
    }
   },
   "outputs": [
    {
     "name": "stderr",
     "output_type": "stream",
     "text": [
      "<ipython-input-5-c1865a9fe04c>:1: FutureWarning: The default value of regex will change from True to False in a future version.\n",
      "  annotation_df['criterion_paraphrase'] = annotation_df['criterion_paraphrase'].str.lower().str.replace(\"-\", \"\").str.replace(\"[0123456789a-z\\/]+\\.\", \"\").str.replace(\"\\s+\", \" \").str.replace(\";\", \",\").str.strip()\n"
     ]
    }
   ],
   "source": [
    "annotation_df['criterion_paraphrase'] = annotation_df['criterion_paraphrase'].str.lower().str.replace(\"-\", \"\").str.replace(\"[0123456789a-z\\/]+\\.\", \"\").str.replace(\"\\s+\", \" \").str.replace(\";\", \",\").str.strip()"
   ]
  },
  {
   "cell_type": "code",
   "execution_count": 6,
   "outputs": [
    {
     "data": {
      "text/plain": "   source_spreadsheet                key annotator date_annotated  \\\n0                   1  2020.acl-main.711     anno1       26/01/21   \n1                   1  2020.acl-main.711     anno1       26/01/21   \n\n  annotation_comments    exclude time_taken pub_venue         pub_authors  \\\n0           ~*empty*~  ~*empty*~  ~*empty*~       ACL  Chakrabarty et al.   \n1           ~*empty*~  ~*empty*~  ~*empty*~       ACL  Chakrabarty et al.   \n\n   pub_year  ... op_instrument_size op_instrument_type op_data_type  \\\n0      2020  ...          ~*empty*~    text annotation         text   \n1      2020  ...          ~*empty*~      rank ordering   rank order   \n\n                                      op_form op_question_prompt_verbatim  \\\n0  evaluation through post-editing/annotation                   ~*empty*~   \n1                 relative quality estimation                   ~*empty*~   \n\n  op_statistics criterion_verbatim criterion_definition_verbatim  \\\n0     ~*empty*~          ~*empty*~                     ~*empty*~   \n1     ~*empty*~          ~*empty*~                     ~*empty*~   \n\n                                criterion_paraphrase  \\\n0                                          ~*empty*~   \n1  goodness of outputs relative to linguistic con...   \n\n                                  criterion_external  \n0  retrieving sentences containing\\ncommonsense c...  \n1                                          ~*empty*~  \n\n[2 rows x 30 columns]",
      "text/html": "<div>\n<style scoped>\n    .dataframe tbody tr th:only-of-type {\n        vertical-align: middle;\n    }\n\n    .dataframe tbody tr th {\n        vertical-align: top;\n    }\n\n    .dataframe thead th {\n        text-align: right;\n    }\n</style>\n<table border=\"1\" class=\"dataframe\">\n  <thead>\n    <tr style=\"text-align: right;\">\n      <th></th>\n      <th>source_spreadsheet</th>\n      <th>key</th>\n      <th>annotator</th>\n      <th>date_annotated</th>\n      <th>annotation_comments</th>\n      <th>exclude</th>\n      <th>time_taken</th>\n      <th>pub_venue</th>\n      <th>pub_authors</th>\n      <th>pub_year</th>\n      <th>...</th>\n      <th>op_instrument_size</th>\n      <th>op_instrument_type</th>\n      <th>op_data_type</th>\n      <th>op_form</th>\n      <th>op_question_prompt_verbatim</th>\n      <th>op_statistics</th>\n      <th>criterion_verbatim</th>\n      <th>criterion_definition_verbatim</th>\n      <th>criterion_paraphrase</th>\n      <th>criterion_external</th>\n    </tr>\n  </thead>\n  <tbody>\n    <tr>\n      <th>0</th>\n      <td>1</td>\n      <td>2020.acl-main.711</td>\n      <td>anno1</td>\n      <td>26/01/21</td>\n      <td>~*empty*~</td>\n      <td>~*empty*~</td>\n      <td>~*empty*~</td>\n      <td>ACL</td>\n      <td>Chakrabarty et al.</td>\n      <td>2020</td>\n      <td>...</td>\n      <td>~*empty*~</td>\n      <td>text annotation</td>\n      <td>text</td>\n      <td>evaluation through post-editing/annotation</td>\n      <td>~*empty*~</td>\n      <td>~*empty*~</td>\n      <td>~*empty*~</td>\n      <td>~*empty*~</td>\n      <td>~*empty*~</td>\n      <td>retrieving sentences containing\\ncommonsense c...</td>\n    </tr>\n    <tr>\n      <th>1</th>\n      <td>1</td>\n      <td>2020.acl-main.711</td>\n      <td>anno1</td>\n      <td>26/01/21</td>\n      <td>~*empty*~</td>\n      <td>~*empty*~</td>\n      <td>~*empty*~</td>\n      <td>ACL</td>\n      <td>Chakrabarty et al.</td>\n      <td>2020</td>\n      <td>...</td>\n      <td>~*empty*~</td>\n      <td>rank ordering</td>\n      <td>rank order</td>\n      <td>relative quality estimation</td>\n      <td>~*empty*~</td>\n      <td>~*empty*~</td>\n      <td>~*empty*~</td>\n      <td>~*empty*~</td>\n      <td>goodness of outputs relative to linguistic con...</td>\n      <td>~*empty*~</td>\n    </tr>\n  </tbody>\n</table>\n<p>2 rows × 30 columns</p>\n</div>"
     },
     "execution_count": 6,
     "metadata": {},
     "output_type": "execute_result"
    }
   ],
   "source": [
    "annotation_df.head(2)"
   ],
   "metadata": {
    "collapsed": false,
    "pycharm": {
     "name": "#%%\n"
    }
   }
  },
  {
   "cell_type": "markdown",
   "metadata": {
    "pycharm": {
     "name": "#%% md\n"
    }
   },
   "source": [
    "We also need to deal with columns where `multiple (please specify):` is a valid value, so that the likelihood of spurious differences is as low as possible.\n",
    "Ideally we should standardise the order of the values listed, but we did not do that for the initial INLG submission (hence the empty code cell)."
   ]
  },
  {
   "cell_type": "code",
   "execution_count": 6,
   "metadata": {
    "pycharm": {
     "name": "#%%\n"
    }
   },
   "outputs": [],
   "source": []
  },
  {
   "cell_type": "markdown",
   "metadata": {
    "pycharm": {
     "name": "#%% md\n"
    }
   },
   "source": [
    "## Extracting the relevant information\n",
    "\n",
    "Now that we've prepared the primary dataframe, we can easily extract smaller dataframes which facilitate the analysis.\n",
    "In particular, this function gives us a three-column DF with the `source_spreadsheet`, `key` (= paper identifier), and the target column,\n",
    "where we have aggregated all labels given in that column for that paper in the spreadsheet `source_spreadsheet` into a set.\n",
    "(Using a set means that each label will appear only once; using a `frozenset` makes it immutable.)\n",
    "\n",
    "This code appears in `iaa_utilities.py`\n",
    "\n",
    "    def extract_iaa_df_by_column_name(annotation_df: pd.DataFrame, column_name: str) -> pd.DataFrame:\n",
    "        \"\"\"Extract a three-column dataframe with `column_name` items grouped by `source_spreadsheet` and `key`.\"\"\"\n",
    "        return annotation_df[['source_spreadsheet', 'key', column_name]]\\\n",
    "            .groupby(['source_spreadsheet', 'key'])[column_name]\\\n",
    "            .apply(frozenset).reset_index()\n",
    "\n",
    "    def extract_records_for_nltk(iaa_df: pd.DataFrame) -> List[Tuple]:\n",
    "        \"\"\"The first column in the `to_records()` representation is an index, which we don't need for `nltk`.\"\"\"\n",
    "        return [(b, c, d) for _, b, c, d in iaa_df.to_records()]\n"
   ]
  },
  {
   "cell_type": "code",
   "execution_count": 7,
   "metadata": {
    "pycharm": {
     "name": "#%%\n"
    }
   },
   "outputs": [],
   "source": [
    "extract_iaa_df_by_column_name = iaa_utilities.extract_iaa_df_by_column_name\n",
    "extract_records_for_nltk = iaa_utilities.extract_records_for_nltk"
   ]
  },
  {
   "cell_type": "markdown",
   "metadata": {
    "pycharm": {
     "name": "#%% md\n"
    }
   },
   "source": [
    "## Calculating agreement\n",
    "\n",
    "We use the same setup for calculating Krippendorff's alpha with Jaccard distance and MASI distance for the closed-class columns.\n"
   ]
  },
  {
   "cell_type": "code",
   "execution_count": 8,
   "metadata": {
    "pycharm": {
     "name": "#%%\n"
    }
   },
   "outputs": [
    {
     "name": "stdout",
     "output_type": "stream",
     "text": [
      "   source_spreadsheet                  key  \\\n",
      "0                   1    2020.acl-main.711   \n",
      "1                   1   2020.emnlp-main.61   \n",
      "2                   1  2020.emnlp-main.739   \n",
      "3                   1       2020.tacl-1.38   \n",
      "4                   1             D18-1454   \n",
      "\n",
      "                                criterion_paraphrase  \n",
      "0  (detectability of controlled feature [property...  \n",
      "1  (correctness of outputs in their own right (bo...  \n",
      "2  (effect on reader/listener [effect] (specify):...  \n",
      "3                                 (clarity, fluency)  \n",
      "4        (~*empty*~, information content of outputs)  \n"
     ]
    }
   ],
   "source": [
    "iaa_by_column = iaa_utilities.IAAv2SpreadsheetScheme.run_closed_class_jaccard_and_masi(annotation_df)\n",
    "print(iaa_by_column['criterion_paraphrase']['df'].head())"
   ]
  },
  {
   "cell_type": "code",
   "execution_count": 9,
   "metadata": {
    "pycharm": {
     "name": "#%%\n"
    }
   },
   "outputs": [
    {
     "name": "stdout",
     "output_type": "stream",
     "text": [
      "column\talpha_jaccard  alpha_masi\n",
      "system_input\t0.52    0.50\n",
      "external_knowledge\t0.15    0.15\n",
      "system_output\t0.09    0.09\n",
      "system_task\t0.38    0.38\n",
      "knowledge_eval\t0.18    0.18\n",
      "criterion_paraphrase\t0.22    0.14\n",
      "op_form\t0.05    0.04\n",
      "op_data_type\t0.25    0.21\n",
      "op_instrument_type\t0.07    0.06\n"
     ]
    }
   ],
   "source": [
    "iaa_utilities.pretty_print_iaa_by_column(iaa_by_column)"
   ]
  },
  {
   "cell_type": "markdown",
   "metadata": {
    "pycharm": {
     "name": "#%% md\n"
    }
   },
   "source": [
    "This does reasonable things for our dev data in a strict-agreement mode, but we should also produce a version which relaxes some of the restrictions.\n",
    "We should also do one for open-class columns with a different distance measure.\n",
    "\n",
    "## Broad Agreement\n",
    "\n",
    "We will call the exact-matching (at the string level) version of agreement which we have used so far *narrow* and now define *broad* agreement.\n",
    "Broad agreement uses the natural hierarchies in the annotation scheme to group elements together which we might want to consider as equivalent.\n",
    "\n",
    "For example, if two annotators disagree about the output type of a system, with one saying *text: paragraph* and the other saying *text: document*,\n",
    "we want to penalize this less than if one of them were to say *multi-modal* instead.\n",
    "\n",
    "### Input/Output Columns\n",
    "\n",
    "For the `system_input` and `system_output` columns, we will consider the following equivalence classes\n",
    "\n",
    "* text = {text: subsentential units of text, text: sentence, text: paragraph, text: document, text: dialogue, text: other (please specify)},\n",
    "* multiple = {all variations of *multiple (list all)*}, and\n",
    "* other = {all variations of *other (please specify)*}\n",
    "\n",
    "with all other allowed labels belonging individually to their own equivalence class containing only one element (i.e. raw data = {*raw data*})\n",
    "In the narrow agreement calculations, each element in an equivalence class differs from all others with a nominal distance metric (i.e. identical strings are distance 0 and all others are distance 1 from each other).\n",
    "\n",
    "\n",
    "### Task Column\n",
    "\n",
    "For the `system_task` column, we use the following equivalence classes\n",
    "\n",
    "* multiple = {all variations of *multiple (list all)*} and\n",
    "* other = {all variations of *other (please specify)*}\n",
    "\n",
    "with all other allowed labels belonging individually to their own equivalence class containing only one element (i.e. aggregation = {*aggregation*})\n",
    "In the narrow agreement calculations, each element in an equivalence class differs from all others with a nominal distance metric (i.e. identical strings are distance 0 and all others are distance 1 from each other).\n",
    "\n",
    "### Paraphrase of Criterion Name Column\n",
    "\n",
    "For the `criterion_paraphrase` column, we use two sets of equivalence classes:\n",
    "one for simple string-level differences related to annotator-specified details as in the above cases and\n",
    "another based on the hierarchy of criteria.\n",
    "\n",
    "#### String-level equivalence classes\n",
    "\n",
    "* Detectability of Text Property (specify property here) = {all variations of *Detectability of Text Property*}\n",
    "* Effect on listener (specify effect here) = {all variations of *Effect on listener*}\n",
    "* Inferrability of Speaker Stance (specify object of stance here) = {all variations of *Inferrability of Speaker Stance*}\n",
    "* Inferrability of Speaker Trait (specify trait here) = {all variations of *Inferrability of Speaker Trait*}\n",
    "\n",
    "#### Hierarchy-based equivalence classes\n",
    "\n",
    "These can be read in version 2.0 of the annotation guidelines.\n",
    "We use all the immediate children of `Quality of outputs` as the top level categories and map all of their children to them.\n",
    "This gives us four equivalence classes:\n",
    "\n",
    "* `Quality of outputs` (containing only itself),\n",
    "* `Correctness of outputs`,\n",
    "* `Goodness of outputs (excluding correctness)`, and\n",
    "* `Feature-type criteria`\n",
    "\n",
    "### Form of Response Elicitation\n",
    "\n",
    "* other = {all variations of *other (please specify)*}\n",
    "\n",
    "### Performing the updates and the calculations\n",
    "\n",
    "We work with a fresh copy of the annotation_df so that the original data is still accessible in the notebook.\n",
    "For each of the columns where *other (please specify)* is a valid annotation, we replace any annotation beginning with \"other\" with \"other:\n",
    "we are collapsing the distinctions created by the further specifications.\n",
    "We do the same thing for annotations of *multiple (list all)*."
   ]
  },
  {
   "cell_type": "code",
   "execution_count": 10,
   "metadata": {
    "pycharm": {
     "name": "#%%\n"
    }
   },
   "outputs": [
    {
     "name": "stderr",
     "output_type": "stream",
     "text": [
      "<ipython-input-10-041bc09ba93e>:3: FutureWarning: The default value of regex will change from True to False in a future version.\n",
      "  broad_anno_df[column] = broad_anno_df[column].str.replace(\"^[Oo]ther.*\", \"other\")\n"
     ]
    },
    {
     "data": {
      "text/plain": "0          text: sentence\n1          text: sentence\n2          text: sentence\n3          text: sentence\n4          text: sentence\n             ...         \n65         text: sentence\n66         text: sentence\n67         text: sentence\n68    raw/structured data\n69    raw/structured data\nName: system_input, Length: 70, dtype: object"
     },
     "execution_count": 10,
     "metadata": {},
     "output_type": "execute_result"
    }
   ],
   "source": [
    "broad_anno_df = annotation_df.copy(deep = True)\n",
    "for column in (\"system_input\", \"system_output\", \"system_task\", \"op_form\"):\n",
    "    broad_anno_df[column] = broad_anno_df[column].str.replace(\"^[Oo]ther.*\", \"other\")\n",
    "broad_anno_df['system_input']"
   ]
  },
  {
   "cell_type": "code",
   "execution_count": 11,
   "metadata": {
    "pycharm": {
     "name": "#%%\n"
    }
   },
   "outputs": [
    {
     "name": "stderr",
     "output_type": "stream",
     "text": [
      "<ipython-input-11-f799db7b0088>:2: FutureWarning: The default value of regex will change from True to False in a future version.\n",
      "  broad_anno_df[column] = broad_anno_df[column].str.replace(\"^[Mm]ultiple.*\", \"multiple\")\n",
      "<ipython-input-11-f799db7b0088>:3: FutureWarning: The default value of regex will change from True to False in a future version.\n",
      "  broad_anno_df[column] = broad_anno_df[column].str.replace(\"^[Tt]ext:.*\", \"text\")\n"
     ]
    },
    {
     "data": {
      "text/plain": "0                    text\n1                    text\n2                    text\n3                    text\n4                    text\n             ...         \n65                   text\n66                   text\n67                   text\n68    raw/structured data\n69    raw/structured data\nName: system_input, Length: 70, dtype: object"
     },
     "execution_count": 11,
     "metadata": {},
     "output_type": "execute_result"
    }
   ],
   "source": [
    "for column in (\"system_input\", \"system_output\"):\n",
    "    broad_anno_df[column] = broad_anno_df[column].str.replace(\"^[Mm]ultiple.*\", \"multiple\")\n",
    "    broad_anno_df[column] = broad_anno_df[column].str.replace(\"^[Tt]ext:.*\", \"text\")\n",
    "broad_anno_df['system_input']\n",
    "\n",
    "# broad_anno_df['criterion_paraphrase'] = broad_anno_df['criterion_paraphrase'].str.replace(\"^[Mm]ultiple.*\", \"multiple\")"
   ]
  },
  {
   "cell_type": "markdown",
   "metadata": {
    "pycharm": {
     "name": "#%% md\n"
    }
   },
   "source": [
    "When it comes to the `criterion_paraphrase` column, however, we can take either of the two approaches described above.\n",
    "We will create one copy of the broad annotation dataframe for each of them and then apply our fixes to the copies.\n",
    "\n",
    "For the version focused only on discrepancies caused by 'please specify' lists,\n",
    "we can use the same kind of approach we used earlier for 'other' and 'multiple':\n",
    "look for the keyphrase at the beginning of the cell and remove any other cell contents."
   ]
  },
  {
   "cell_type": "code",
   "execution_count": 12,
   "metadata": {
    "pycharm": {
     "name": "#%%\n"
    }
   },
   "outputs": [
    {
     "name": "stderr",
     "output_type": "stream",
     "text": [
      "<ipython-input-12-3cd44568ce03>:3: FutureWarning: The default value of regex will change from True to False in a future version.\n",
      "  broad_anno_string_df['criterion_paraphrase'] = broad_anno_string_df['criterion_paraphrase'].str.replace(f\"{string_prefix}.*\", string_prefix, case=False)\n"
     ]
    },
    {
     "data": {
      "text/plain": "0                                             ~*empty*~\n1     goodness of outputs relative to linguistic con...\n2                   Detectability of controlled feature\n3                   Detectability of controlled feature\n4                   Detectability of controlled feature\n                            ...                        \n65                                              fluency\n66                                    user satisfaction\n67                goodness of outputs relative to input\n68                                              fluency\n69                       information content of outputs\nName: criterion_paraphrase, Length: 70, dtype: object"
     },
     "execution_count": 12,
     "metadata": {},
     "output_type": "execute_result"
    }
   ],
   "source": [
    "broad_anno_string_df = broad_anno_df.copy(deep = True)\n",
    "for string_prefix in (\"Text Property\", \"Detectability of controlled feature\", \"Effect on reader/listener\", \"Inferrability of speaker/author stance\", \"Inferrability of speaker/author trait\"):\n",
    "    broad_anno_string_df['criterion_paraphrase'] = broad_anno_string_df['criterion_paraphrase'].str.replace(f\"{string_prefix}.*\", string_prefix, case=False)\n",
    "broad_anno_string_df['criterion_paraphrase']"
   ]
  },
  {
   "cell_type": "markdown",
   "metadata": {
    "pycharm": {
     "name": "#%% md\n"
    }
   },
   "source": [
    "For the hierarchical version, we need to define the hierarchy as a replacement dictionary first.\n",
    "Here we define a dictionary where the key is the 'higher-level' which we will use as a replacement for each of the values associated with it (the 'lower-level')."
   ]
  },
  {
   "cell_type": "code",
   "execution_count": 13,
   "metadata": {
    "pycharm": {
     "name": "#%%\n"
    }
   },
   "outputs": [
    {
     "name": "stderr",
     "output_type": "stream",
     "text": [
      "<ipython-input-13-22f75afee4cd>:7: FutureWarning: The default value of regex will change from True to False in a future version.\n",
      "  broad_anno_hierarchical_df['criterion_paraphrase'] = broad_anno_hierarchical_df['criterion_paraphrase'].str.replace(f\".*{re.escape(lower_level)}.*\", higher_level, case = False)\n"
     ]
    },
    {
     "data": {
      "text/plain": "0                                       ~*empty*~\n1     Goodness of outputs (excluding correctness)\n2                           Feature-type criteria\n3                           Feature-type criteria\n4                           Feature-type criteria\n                         ...                     \n65    Goodness of outputs (excluding correctness)\n66    Goodness of outputs (excluding correctness)\n67    Goodness of outputs (excluding correctness)\n68    Goodness of outputs (excluding correctness)\n69    Goodness of outputs (excluding correctness)\nName: criterion_paraphrase, Length: 70, dtype: object"
     },
     "execution_count": 13,
     "metadata": {},
     "output_type": "execute_result"
    }
   ],
   "source": [
    "broad_anno_hierarchical_df = broad_anno_df.copy(deep = True)\n",
    "\n",
    "hierarchy_dict = iaa_utilities.IAAv2SpreadsheetScheme.HIERARCHY_DICT\n",
    "\n",
    "for higher_level in hierarchy_dict:\n",
    "    for lower_level in hierarchy_dict[higher_level]:\n",
    "        broad_anno_hierarchical_df['criterion_paraphrase'] = broad_anno_hierarchical_df['criterion_paraphrase'].str.replace(f\".*{re.escape(lower_level)}.*\", higher_level, case = False)\n",
    "broad_anno_hierarchical_df['criterion_paraphrase']"
   ]
  },
  {
   "cell_type": "markdown",
   "metadata": {
    "pycharm": {
     "name": "#%% md\n"
    }
   },
   "source": [
    "We can then repeat our calculations of $\\alpha$ using the broad versions of the spreadsheet.\n",
    "\n",
    "#### For the string-based calculations"
   ]
  },
  {
   "cell_type": "code",
   "execution_count": 14,
   "metadata": {
    "pycharm": {
     "name": "#%%\n"
    }
   },
   "outputs": [
    {
     "name": "stdout",
     "output_type": "stream",
     "text": [
      "column\talpha_jaccard  alpha_masi\n",
      "system_input\t0.70    0.70\n",
      "external_knowledge\t0.15    0.15\n",
      "system_output\t1.00    1.00\n",
      "system_task\t0.37    0.37\n",
      "knowledge_eval\t0.18    0.18\n",
      "criterion_paraphrase\t0.26    0.18\n",
      "op_form\t0.05    0.04\n",
      "op_data_type\t0.25    0.21\n",
      "op_instrument_type\t0.07    0.06\n"
     ]
    }
   ],
   "source": [
    "broad_string_dict = iaa_utilities.IAAv2SpreadsheetScheme.run_closed_class_jaccard_and_masi(broad_anno_string_df)\n",
    "iaa_utilities.pretty_print_iaa_by_column(broad_string_dict)"
   ]
  },
  {
   "cell_type": "code",
   "execution_count": 15,
   "metadata": {
    "pycharm": {
     "name": "#%%\n"
    }
   },
   "outputs": [
    {
     "data": {
      "text/plain": "    source_spreadsheet                  key system_output\n0                    1    2020.acl-main.711        (text)\n1                    1   2020.emnlp-main.61        (text)\n2                    1  2020.emnlp-main.739        (text)\n3                    1       2020.tacl-1.38        (text)\n4                    1             D18-1454        (text)\n5                    1             N19-1126        (text)\n6                    1             N19-1421        (text)\n7                    1             P19-1193        (text)\n8                    1             P19-1488        (text)\n9                    2    2020.acl-main.711        (text)\n10                   2   2020.emnlp-main.61        (text)\n11                   2  2020.emnlp-main.739        (text)\n12                   2       2020.tacl-1.38        (text)\n13                   2             D18-1454        (text)\n14                   2             N19-1126        (text)\n15                   2             N19-1421        (text)\n16                   2             P19-1193        (text)\n17                   2             P19-1488        (text)\n18                   3    2020.acl-main.711        (text)\n19                   3   2020.emnlp-main.61        (text)\n20                   3  2020.emnlp-main.739        (text)\n21                   3       2020.tacl-1.38        (text)\n22                   3             D18-1454        (text)\n23                   3             N19-1126        (text)\n24                   3             N19-1421        (text)\n25                   3             P19-1193        (text)\n26                   3             P19-1488        (text)",
      "text/html": "<div>\n<style scoped>\n    .dataframe tbody tr th:only-of-type {\n        vertical-align: middle;\n    }\n\n    .dataframe tbody tr th {\n        vertical-align: top;\n    }\n\n    .dataframe thead th {\n        text-align: right;\n    }\n</style>\n<table border=\"1\" class=\"dataframe\">\n  <thead>\n    <tr style=\"text-align: right;\">\n      <th></th>\n      <th>source_spreadsheet</th>\n      <th>key</th>\n      <th>system_output</th>\n    </tr>\n  </thead>\n  <tbody>\n    <tr>\n      <th>0</th>\n      <td>1</td>\n      <td>2020.acl-main.711</td>\n      <td>(text)</td>\n    </tr>\n    <tr>\n      <th>1</th>\n      <td>1</td>\n      <td>2020.emnlp-main.61</td>\n      <td>(text)</td>\n    </tr>\n    <tr>\n      <th>2</th>\n      <td>1</td>\n      <td>2020.emnlp-main.739</td>\n      <td>(text)</td>\n    </tr>\n    <tr>\n      <th>3</th>\n      <td>1</td>\n      <td>2020.tacl-1.38</td>\n      <td>(text)</td>\n    </tr>\n    <tr>\n      <th>4</th>\n      <td>1</td>\n      <td>D18-1454</td>\n      <td>(text)</td>\n    </tr>\n    <tr>\n      <th>5</th>\n      <td>1</td>\n      <td>N19-1126</td>\n      <td>(text)</td>\n    </tr>\n    <tr>\n      <th>6</th>\n      <td>1</td>\n      <td>N19-1421</td>\n      <td>(text)</td>\n    </tr>\n    <tr>\n      <th>7</th>\n      <td>1</td>\n      <td>P19-1193</td>\n      <td>(text)</td>\n    </tr>\n    <tr>\n      <th>8</th>\n      <td>1</td>\n      <td>P19-1488</td>\n      <td>(text)</td>\n    </tr>\n    <tr>\n      <th>9</th>\n      <td>2</td>\n      <td>2020.acl-main.711</td>\n      <td>(text)</td>\n    </tr>\n    <tr>\n      <th>10</th>\n      <td>2</td>\n      <td>2020.emnlp-main.61</td>\n      <td>(text)</td>\n    </tr>\n    <tr>\n      <th>11</th>\n      <td>2</td>\n      <td>2020.emnlp-main.739</td>\n      <td>(text)</td>\n    </tr>\n    <tr>\n      <th>12</th>\n      <td>2</td>\n      <td>2020.tacl-1.38</td>\n      <td>(text)</td>\n    </tr>\n    <tr>\n      <th>13</th>\n      <td>2</td>\n      <td>D18-1454</td>\n      <td>(text)</td>\n    </tr>\n    <tr>\n      <th>14</th>\n      <td>2</td>\n      <td>N19-1126</td>\n      <td>(text)</td>\n    </tr>\n    <tr>\n      <th>15</th>\n      <td>2</td>\n      <td>N19-1421</td>\n      <td>(text)</td>\n    </tr>\n    <tr>\n      <th>16</th>\n      <td>2</td>\n      <td>P19-1193</td>\n      <td>(text)</td>\n    </tr>\n    <tr>\n      <th>17</th>\n      <td>2</td>\n      <td>P19-1488</td>\n      <td>(text)</td>\n    </tr>\n    <tr>\n      <th>18</th>\n      <td>3</td>\n      <td>2020.acl-main.711</td>\n      <td>(text)</td>\n    </tr>\n    <tr>\n      <th>19</th>\n      <td>3</td>\n      <td>2020.emnlp-main.61</td>\n      <td>(text)</td>\n    </tr>\n    <tr>\n      <th>20</th>\n      <td>3</td>\n      <td>2020.emnlp-main.739</td>\n      <td>(text)</td>\n    </tr>\n    <tr>\n      <th>21</th>\n      <td>3</td>\n      <td>2020.tacl-1.38</td>\n      <td>(text)</td>\n    </tr>\n    <tr>\n      <th>22</th>\n      <td>3</td>\n      <td>D18-1454</td>\n      <td>(text)</td>\n    </tr>\n    <tr>\n      <th>23</th>\n      <td>3</td>\n      <td>N19-1126</td>\n      <td>(text)</td>\n    </tr>\n    <tr>\n      <th>24</th>\n      <td>3</td>\n      <td>N19-1421</td>\n      <td>(text)</td>\n    </tr>\n    <tr>\n      <th>25</th>\n      <td>3</td>\n      <td>P19-1193</td>\n      <td>(text)</td>\n    </tr>\n    <tr>\n      <th>26</th>\n      <td>3</td>\n      <td>P19-1488</td>\n      <td>(text)</td>\n    </tr>\n  </tbody>\n</table>\n</div>"
     },
     "execution_count": 15,
     "metadata": {},
     "output_type": "execute_result"
    }
   ],
   "source": [
    "broad_string_dict['system_output']['df']"
   ]
  },
  {
   "cell_type": "code",
   "execution_count": 16,
   "metadata": {
    "pycharm": {
     "name": "#%%\n"
    }
   },
   "outputs": [
    {
     "data": {
      "text/plain": "1"
     },
     "execution_count": 16,
     "metadata": {},
     "output_type": "execute_result"
    }
   ],
   "source": [
    "at = AnnotationTask(data = extract_records_for_nltk(broad_string_dict['system_output']['df']), distance=jaccard_distance)\n",
    "at.alpha()"
   ]
  },
  {
   "cell_type": "markdown",
   "metadata": {
    "pycharm": {
     "name": "#%% md\n"
    }
   },
   "source": [
    "#### For the hierarchical calculations"
   ]
  },
  {
   "cell_type": "code",
   "execution_count": 17,
   "metadata": {
    "pycharm": {
     "name": "#%%\n"
    }
   },
   "outputs": [
    {
     "name": "stdout",
     "output_type": "stream",
     "text": [
      "column\talpha_jaccard  alpha_masi\n",
      "system_input\t0.70    0.70\n",
      "external_knowledge\t0.15    0.15\n",
      "system_output\t1.00    1.00\n",
      "system_task\t0.37    0.37\n",
      "knowledge_eval\t0.18    0.18\n",
      "criterion_paraphrase\t0.39    0.33\n",
      "op_form\t0.05    0.04\n",
      "op_data_type\t0.25    0.21\n",
      "op_instrument_type\t0.07    0.06\n"
     ]
    }
   ],
   "source": [
    "broad_hier_dict = iaa_utilities.IAAv2SpreadsheetScheme.run_closed_class_jaccard_and_masi(broad_anno_hierarchical_df)\n",
    "iaa_utilities.pretty_print_iaa_by_column(broad_hier_dict)"
   ]
  },
  {
   "cell_type": "markdown",
   "metadata": {
    "pycharm": {
     "name": "#%% md\n"
    }
   },
   "source": [
    "## Pairwise interannotator agreement"
   ]
  },
  {
   "cell_type": "code",
   "execution_count": 18,
   "metadata": {
    "pycharm": {
     "name": "#%%\n"
    }
   },
   "outputs": [
    {
     "name": "stdout",
     "output_type": "stream",
     "text": [
      "Interannotator agreement for system_input\n",
      " \t1\t2\t3\n",
      "1\t1.00\t0.61\t0.50\t\t0.56\n",
      "2\t0.61\t1.00\t0.89\t\t0.75\n",
      "3\t0.50\t0.89\t1.00\t\t0.69\n",
      "\n",
      "\n",
      "Interannotator agreement for external_knowledge\n",
      " \t1\t2\t3\n",
      "1\t1.00\t0.78\t0.67\t\t0.72\n",
      "2\t0.78\t1.00\t0.89\t\t0.83\n",
      "3\t0.67\t0.89\t1.00\t\t0.78\n",
      "\n",
      "\n",
      "Interannotator agreement for system_output\n",
      " \t1\t2\t3\n",
      "1\t1.00\t0.56\t0.11\t\t0.33\n",
      "2\t0.56\t1.00\t0.33\t\t0.44\n",
      "3\t0.11\t0.33\t1.00\t\t0.22\n",
      "\n",
      "\n",
      "Interannotator agreement for system_task\n",
      " \t1\t2\t3\n",
      "1\t1.00\t0.44\t0.44\t\t0.44\n",
      "2\t0.44\t1.00\t0.56\t\t0.50\n",
      "3\t0.44\t0.56\t1.00\t\t0.50\n",
      "\n",
      "\n",
      "Interannotator agreement for knowledge_eval\n",
      " \t1\t2\t3\n",
      "1\t1.00\t0.56\t0.56\t\t0.56\n",
      "2\t0.56\t1.00\t0.56\t\t0.56\n",
      "3\t0.56\t0.56\t1.00\t\t0.56\n",
      "\n",
      "\n",
      "Interannotator agreement for criterion_paraphrase\n",
      " \t1\t2\t3\n",
      "1\t1.00\t0.30\t0.23\t\t0.27\n",
      "2\t0.30\t1.00\t0.30\t\t0.30\n",
      "3\t0.23\t0.30\t1.00\t\t0.27\n",
      "\n",
      "\n",
      "Interannotator agreement for op_form\n",
      " \t1\t2\t3\n",
      "1\t1.00\t0.31\t0.11\t\t0.21\n",
      "2\t0.31\t1.00\t0.22\t\t0.27\n",
      "3\t0.11\t0.22\t1.00\t\t0.17\n",
      "\n",
      "\n",
      "Interannotator agreement for op_data_type\n",
      " \t1\t2\t3\n",
      "1\t1.00\t0.39\t0.43\t\t0.41\n",
      "2\t0.39\t1.00\t0.54\t\t0.46\n",
      "3\t0.43\t0.54\t1.00\t\t0.48\n",
      "\n",
      "\n",
      "Interannotator agreement for op_instrument_type\n",
      " \t1\t2\t3\n",
      "1\t1.00\t0.35\t0.20\t\t0.28\n",
      "2\t0.35\t1.00\t0.00\t\t0.18\n",
      "3\t0.20\t0.00\t1.00\t\t0.10\n",
      "\n",
      "\n"
     ]
    }
   ],
   "source": [
    "\n",
    "\n",
    "iaa_utilities.IAAv2SpreadsheetScheme.print_absolute_agreement(annotation_df, iaa_by_column)"
   ]
  },
  {
   "cell_type": "markdown",
   "metadata": {},
   "source": [
    "### Pair-wise agreement on the broad string-based annotations"
   ]
  },
  {
   "cell_type": "code",
   "execution_count": 19,
   "metadata": {
    "pycharm": {
     "name": "#%%\n"
    }
   },
   "outputs": [
    {
     "name": "stdout",
     "output_type": "stream",
     "text": [
      "Interannotator agreement for system_input\n",
      " \t1\t2\t3\n",
      "1\t1.00\t0.78\t0.78\t\t0.78\n",
      "2\t0.78\t1.00\t1.00\t\t0.89\n",
      "3\t0.78\t1.00\t1.00\t\t0.89\n",
      "\n",
      "\n",
      "Interannotator agreement for external_knowledge\n",
      " \t1\t2\t3\n",
      "1\t1.00\t0.78\t0.67\t\t0.72\n",
      "2\t0.78\t1.00\t0.89\t\t0.83\n",
      "3\t0.67\t0.89\t1.00\t\t0.78\n",
      "\n",
      "\n",
      "Interannotator agreement for system_output\n",
      " \t1\t2\t3\n",
      "1\t1.00\t1.00\t1.00\t\t1.00\n",
      "2\t1.00\t1.00\t1.00\t\t1.00\n",
      "3\t1.00\t1.00\t1.00\t\t1.00\n",
      "\n",
      "\n",
      "Interannotator agreement for system_task\n",
      " \t1\t2\t3\n",
      "1\t1.00\t0.44\t0.44\t\t0.44\n",
      "2\t0.44\t1.00\t0.56\t\t0.50\n",
      "3\t0.44\t0.56\t1.00\t\t0.50\n",
      "\n",
      "\n",
      "Interannotator agreement for knowledge_eval\n",
      " \t1\t2\t3\n",
      "1\t1.00\t0.56\t0.56\t\t0.56\n",
      "2\t0.56\t1.00\t0.56\t\t0.56\n",
      "3\t0.56\t0.56\t1.00\t\t0.56\n",
      "\n",
      "\n",
      "Interannotator agreement for criterion_paraphrase\n",
      " \t1\t2\t3\n",
      "1\t1.00\t0.31\t0.24\t\t0.28\n",
      "2\t0.31\t1.00\t0.39\t\t0.35\n",
      "3\t0.24\t0.39\t1.00\t\t0.32\n",
      "\n",
      "\n",
      "Interannotator agreement for op_form\n",
      " \t1\t2\t3\n",
      "1\t1.00\t0.31\t0.11\t\t0.21\n",
      "2\t0.31\t1.00\t0.22\t\t0.27\n",
      "3\t0.11\t0.22\t1.00\t\t0.17\n",
      "\n",
      "\n",
      "Interannotator agreement for op_data_type\n",
      " \t1\t2\t3\n",
      "1\t1.00\t0.39\t0.43\t\t0.41\n",
      "2\t0.39\t1.00\t0.54\t\t0.46\n",
      "3\t0.43\t0.54\t1.00\t\t0.48\n",
      "\n",
      "\n",
      "Interannotator agreement for op_instrument_type\n",
      " \t1\t2\t3\n",
      "1\t1.00\t0.35\t0.20\t\t0.28\n",
      "2\t0.35\t1.00\t0.00\t\t0.18\n",
      "3\t0.20\t0.00\t1.00\t\t0.10\n",
      "\n",
      "\n"
     ]
    }
   ],
   "source": [
    "iaa_utilities.IAAv2SpreadsheetScheme.print_absolute_agreement(broad_anno_string_df)"
   ]
  },
  {
   "cell_type": "markdown",
   "metadata": {},
   "source": [
    "### Pair-wise agreement on the broad hierarchical annotations"
   ]
  },
  {
   "cell_type": "code",
   "execution_count": 20,
   "metadata": {
    "pycharm": {
     "name": "#%%\n"
    }
   },
   "outputs": [
    {
     "name": "stdout",
     "output_type": "stream",
     "text": [
      "Interannotator agreement for system_input\n",
      " \t1\t2\t3\n",
      "1\t1.00\t0.78\t0.78\t\t0.78\n",
      "2\t0.78\t1.00\t1.00\t\t0.89\n",
      "3\t0.78\t1.00\t1.00\t\t0.89\n",
      "\n",
      "\n",
      "Interannotator agreement for external_knowledge\n",
      " \t1\t2\t3\n",
      "1\t1.00\t0.78\t0.67\t\t0.72\n",
      "2\t0.78\t1.00\t0.89\t\t0.83\n",
      "3\t0.67\t0.89\t1.00\t\t0.78\n",
      "\n",
      "\n",
      "Interannotator agreement for system_output\n",
      " \t1\t2\t3\n",
      "1\t1.00\t1.00\t1.00\t\t1.00\n",
      "2\t1.00\t1.00\t1.00\t\t1.00\n",
      "3\t1.00\t1.00\t1.00\t\t1.00\n",
      "\n",
      "\n",
      "Interannotator agreement for system_task\n",
      " \t1\t2\t3\n",
      "1\t1.00\t0.44\t0.44\t\t0.44\n",
      "2\t0.44\t1.00\t0.56\t\t0.50\n",
      "3\t0.44\t0.56\t1.00\t\t0.50\n",
      "\n",
      "\n",
      "Interannotator agreement for knowledge_eval\n",
      " \t1\t2\t3\n",
      "1\t1.00\t0.56\t0.56\t\t0.56\n",
      "2\t0.56\t1.00\t0.56\t\t0.56\n",
      "3\t0.56\t0.56\t1.00\t\t0.56\n",
      "\n",
      "\n",
      "Interannotator agreement for criterion_paraphrase\n",
      " \t1\t2\t3\n",
      "1\t1.00\t0.65\t0.52\t\t0.59\n",
      "2\t0.65\t1.00\t0.48\t\t0.57\n",
      "3\t0.52\t0.48\t1.00\t\t0.50\n",
      "\n",
      "\n",
      "Interannotator agreement for op_form\n",
      " \t1\t2\t3\n",
      "1\t1.00\t0.31\t0.11\t\t0.21\n",
      "2\t0.31\t1.00\t0.22\t\t0.27\n",
      "3\t0.11\t0.22\t1.00\t\t0.17\n",
      "\n",
      "\n",
      "Interannotator agreement for op_data_type\n",
      " \t1\t2\t3\n",
      "1\t1.00\t0.39\t0.43\t\t0.41\n",
      "2\t0.39\t1.00\t0.54\t\t0.46\n",
      "3\t0.43\t0.54\t1.00\t\t0.48\n",
      "\n",
      "\n",
      "Interannotator agreement for op_instrument_type\n",
      " \t1\t2\t3\n",
      "1\t1.00\t0.35\t0.20\t\t0.28\n",
      "2\t0.35\t1.00\t0.00\t\t0.18\n",
      "3\t0.20\t0.00\t1.00\t\t0.10\n",
      "\n",
      "\n"
     ]
    }
   ],
   "source": [
    "iaa_utilities.IAAv2SpreadsheetScheme.print_absolute_agreement(broad_anno_hierarchical_df)"
   ]
  },
  {
   "cell_type": "markdown",
   "metadata": {
    "pycharm": {
     "name": "#%% md\n"
    }
   },
   "source": [
    "### Agreement tables for each column"
   ]
  },
  {
   "cell_type": "code",
   "execution_count": 21,
   "metadata": {
    "pycharm": {
     "name": "#%%\n"
    }
   },
   "outputs": [
    {
     "data": {
      "text/plain": "'system_language'"
     },
     "metadata": {},
     "output_type": "display_data"
    },
    {
     "data": {
      "text/plain": "source_spreadsheet           1          2            3\nkey                                                   \n2020.acl-main.711    (English)  (English)    (English)\n2020.emnlp-main.61   (English)  (English)    (English)\n2020.emnlp-main.739  (English)  (English)  (~*empty*~)\n2020.tacl-1.38       (English)  (English)  (~*empty*~)\nD18-1454             (English)  (English)    (English)\nN19-1126             (English)  (Englsih)    (English)\nN19-1421             (English)  (English)    (English)\nP19-1193             (English)  (Chinese)    (English)\nP19-1488             (English)  (English)    (English)",
      "text/html": "<div>\n<style scoped>\n    .dataframe tbody tr th:only-of-type {\n        vertical-align: middle;\n    }\n\n    .dataframe tbody tr th {\n        vertical-align: top;\n    }\n\n    .dataframe thead th {\n        text-align: right;\n    }\n</style>\n<table border=\"1\" class=\"dataframe\">\n  <thead>\n    <tr style=\"text-align: right;\">\n      <th>source_spreadsheet</th>\n      <th>1</th>\n      <th>2</th>\n      <th>3</th>\n    </tr>\n    <tr>\n      <th>key</th>\n      <th></th>\n      <th></th>\n      <th></th>\n    </tr>\n  </thead>\n  <tbody>\n    <tr>\n      <th>2020.acl-main.711</th>\n      <td>(English)</td>\n      <td>(English)</td>\n      <td>(English)</td>\n    </tr>\n    <tr>\n      <th>2020.emnlp-main.61</th>\n      <td>(English)</td>\n      <td>(English)</td>\n      <td>(English)</td>\n    </tr>\n    <tr>\n      <th>2020.emnlp-main.739</th>\n      <td>(English)</td>\n      <td>(English)</td>\n      <td>(~*empty*~)</td>\n    </tr>\n    <tr>\n      <th>2020.tacl-1.38</th>\n      <td>(English)</td>\n      <td>(English)</td>\n      <td>(~*empty*~)</td>\n    </tr>\n    <tr>\n      <th>D18-1454</th>\n      <td>(English)</td>\n      <td>(English)</td>\n      <td>(English)</td>\n    </tr>\n    <tr>\n      <th>N19-1126</th>\n      <td>(English)</td>\n      <td>(Englsih)</td>\n      <td>(English)</td>\n    </tr>\n    <tr>\n      <th>N19-1421</th>\n      <td>(English)</td>\n      <td>(English)</td>\n      <td>(English)</td>\n    </tr>\n    <tr>\n      <th>P19-1193</th>\n      <td>(English)</td>\n      <td>(Chinese)</td>\n      <td>(English)</td>\n    </tr>\n    <tr>\n      <th>P19-1488</th>\n      <td>(English)</td>\n      <td>(English)</td>\n      <td>(English)</td>\n    </tr>\n  </tbody>\n</table>\n</div>"
     },
     "metadata": {},
     "output_type": "display_data"
    },
    {
     "data": {
      "text/plain": "'system_input'"
     },
     "metadata": {},
     "output_type": "display_data"
    },
    {
     "data": {
      "text/plain": "source_spreadsheet                                                   1  \\\nkey                                                                      \n2020.acl-main.711                                     (text: sentence)   \n2020.emnlp-main.61                                            (visual)   \n2020.emnlp-main.739                         (text: multiple sentences)   \n2020.tacl-1.38                                   (raw/structured data)   \nD18-1454                        (deep linguistic representation (DLR))   \nN19-1126                                              (text: sentence)   \nN19-1421                                         (raw/structured data)   \nP19-1193             (text: sentence, text: subsentential units of ...   \nP19-1488                                              (text: sentence)   \n\nsource_spreadsheet                                     2  \\\nkey                                                        \n2020.acl-main.711                       (text: sentence)   \n2020.emnlp-main.61                              (visual)   \n2020.emnlp-main.739                     (text: sentence)   \n2020.tacl-1.38                     (raw/structured data)   \nD18-1454                                (text: sentence)   \nN19-1126                                (text: sentence)   \nN19-1421                                (text: sentence)   \nP19-1193             (text: subsentential units of text)   \nP19-1488                                (text: sentence)   \n\nsource_spreadsheet                                     3  \nkey                                                       \n2020.acl-main.711                       (text: sentence)  \n2020.emnlp-main.61                              (visual)  \n2020.emnlp-main.739                     (text: sentence)  \n2020.tacl-1.38                     (raw/structured data)  \nD18-1454                                (text: sentence)  \nN19-1126                                (text: dialogue)  \nN19-1421                                (text: sentence)  \nP19-1193             (text: subsentential units of text)  \nP19-1488                                (text: sentence)  ",
      "text/html": "<div>\n<style scoped>\n    .dataframe tbody tr th:only-of-type {\n        vertical-align: middle;\n    }\n\n    .dataframe tbody tr th {\n        vertical-align: top;\n    }\n\n    .dataframe thead th {\n        text-align: right;\n    }\n</style>\n<table border=\"1\" class=\"dataframe\">\n  <thead>\n    <tr style=\"text-align: right;\">\n      <th>source_spreadsheet</th>\n      <th>1</th>\n      <th>2</th>\n      <th>3</th>\n    </tr>\n    <tr>\n      <th>key</th>\n      <th></th>\n      <th></th>\n      <th></th>\n    </tr>\n  </thead>\n  <tbody>\n    <tr>\n      <th>2020.acl-main.711</th>\n      <td>(text: sentence)</td>\n      <td>(text: sentence)</td>\n      <td>(text: sentence)</td>\n    </tr>\n    <tr>\n      <th>2020.emnlp-main.61</th>\n      <td>(visual)</td>\n      <td>(visual)</td>\n      <td>(visual)</td>\n    </tr>\n    <tr>\n      <th>2020.emnlp-main.739</th>\n      <td>(text: multiple sentences)</td>\n      <td>(text: sentence)</td>\n      <td>(text: sentence)</td>\n    </tr>\n    <tr>\n      <th>2020.tacl-1.38</th>\n      <td>(raw/structured data)</td>\n      <td>(raw/structured data)</td>\n      <td>(raw/structured data)</td>\n    </tr>\n    <tr>\n      <th>D18-1454</th>\n      <td>(deep linguistic representation (DLR))</td>\n      <td>(text: sentence)</td>\n      <td>(text: sentence)</td>\n    </tr>\n    <tr>\n      <th>N19-1126</th>\n      <td>(text: sentence)</td>\n      <td>(text: sentence)</td>\n      <td>(text: dialogue)</td>\n    </tr>\n    <tr>\n      <th>N19-1421</th>\n      <td>(raw/structured data)</td>\n      <td>(text: sentence)</td>\n      <td>(text: sentence)</td>\n    </tr>\n    <tr>\n      <th>P19-1193</th>\n      <td>(text: sentence, text: subsentential units of ...</td>\n      <td>(text: subsentential units of text)</td>\n      <td>(text: subsentential units of text)</td>\n    </tr>\n    <tr>\n      <th>P19-1488</th>\n      <td>(text: sentence)</td>\n      <td>(text: sentence)</td>\n      <td>(text: sentence)</td>\n    </tr>\n  </tbody>\n</table>\n</div>"
     },
     "metadata": {},
     "output_type": "display_data"
    },
    {
     "data": {
      "text/plain": "'system_output'"
     },
     "metadata": {},
     "output_type": "display_data"
    },
    {
     "data": {
      "text/plain": "source_spreadsheet                                                   1  \\\nkey                                                                      \n2020.acl-main.711                                     (text: sentence)   \n2020.emnlp-main.61                          (text: multiple sentences)   \n2020.emnlp-main.739                                   (text: dialogue)   \n2020.tacl-1.38                              (text: multiple sentences)   \nD18-1454                           (text: subsentential units of text)   \nN19-1126                                              (text: sentence)   \nN19-1421             (text: other (please specify): multiple-choice...   \nP19-1193                                    (text: multiple sentences)   \nP19-1488                                              (text: sentence)   \n\nsource_spreadsheet                                     2  \\\nkey                                                        \n2020.acl-main.711                       (text: sentence)   \n2020.emnlp-main.61                      (text: sentence)   \n2020.emnlp-main.739                     (text: sentence)   \n2020.tacl-1.38                (text: multiple sentences)   \nD18-1454                                (text: sentence)   \nN19-1126                                (text: sentence)   \nN19-1421             (text: subsentential units of text)   \nP19-1193                      (text: multiple sentences)   \nP19-1488                                (text: sentence)   \n\nsource_spreadsheet                         3  \nkey                                           \n2020.acl-main.711    (text: variable-length)  \n2020.emnlp-main.61   (text: variable-length)  \n2020.emnlp-main.739         (text: sentence)  \n2020.tacl-1.38       (text: variable-length)  \nD18-1454                    (text: sentence)  \nN19-1126                    (text: dialogue)  \nN19-1421                    (text: sentence)  \nP19-1193                   (text: documents)  \nP19-1488                    (text: sentence)  ",
      "text/html": "<div>\n<style scoped>\n    .dataframe tbody tr th:only-of-type {\n        vertical-align: middle;\n    }\n\n    .dataframe tbody tr th {\n        vertical-align: top;\n    }\n\n    .dataframe thead th {\n        text-align: right;\n    }\n</style>\n<table border=\"1\" class=\"dataframe\">\n  <thead>\n    <tr style=\"text-align: right;\">\n      <th>source_spreadsheet</th>\n      <th>1</th>\n      <th>2</th>\n      <th>3</th>\n    </tr>\n    <tr>\n      <th>key</th>\n      <th></th>\n      <th></th>\n      <th></th>\n    </tr>\n  </thead>\n  <tbody>\n    <tr>\n      <th>2020.acl-main.711</th>\n      <td>(text: sentence)</td>\n      <td>(text: sentence)</td>\n      <td>(text: variable-length)</td>\n    </tr>\n    <tr>\n      <th>2020.emnlp-main.61</th>\n      <td>(text: multiple sentences)</td>\n      <td>(text: sentence)</td>\n      <td>(text: variable-length)</td>\n    </tr>\n    <tr>\n      <th>2020.emnlp-main.739</th>\n      <td>(text: dialogue)</td>\n      <td>(text: sentence)</td>\n      <td>(text: sentence)</td>\n    </tr>\n    <tr>\n      <th>2020.tacl-1.38</th>\n      <td>(text: multiple sentences)</td>\n      <td>(text: multiple sentences)</td>\n      <td>(text: variable-length)</td>\n    </tr>\n    <tr>\n      <th>D18-1454</th>\n      <td>(text: subsentential units of text)</td>\n      <td>(text: sentence)</td>\n      <td>(text: sentence)</td>\n    </tr>\n    <tr>\n      <th>N19-1126</th>\n      <td>(text: sentence)</td>\n      <td>(text: sentence)</td>\n      <td>(text: dialogue)</td>\n    </tr>\n    <tr>\n      <th>N19-1421</th>\n      <td>(text: other (please specify): multiple-choice...</td>\n      <td>(text: subsentential units of text)</td>\n      <td>(text: sentence)</td>\n    </tr>\n    <tr>\n      <th>P19-1193</th>\n      <td>(text: multiple sentences)</td>\n      <td>(text: multiple sentences)</td>\n      <td>(text: documents)</td>\n    </tr>\n    <tr>\n      <th>P19-1488</th>\n      <td>(text: sentence)</td>\n      <td>(text: sentence)</td>\n      <td>(text: sentence)</td>\n    </tr>\n  </tbody>\n</table>\n</div>"
     },
     "metadata": {},
     "output_type": "display_data"
    },
    {
     "data": {
      "text/plain": "'system_task'"
     },
     "metadata": {},
     "output_type": "display_data"
    },
    {
     "data": {
      "text/plain": "source_spreadsheet                                 1  \\\nkey                                                    \n2020.acl-main.711    (feature-controlled generation)   \n2020.emnlp-main.61   (deep generation (DLR to text))   \n2020.emnlp-main.739       (dialogue turn generation)   \n2020.tacl-1.38       (deep generation (DLR to text))   \nD18-1454                        (question answering)   \nN19-1126             (deep generation (DLR to text))   \nN19-1421                        (question answering)   \nP19-1193              (summarisation (text-to-text))   \nP19-1488                        (question answering)   \n\nsource_spreadsheet                                              2  \\\nkey                                                                 \n2020.acl-main.711    (other (please specify): sarcasm generation)   \n2020.emnlp-main.61     (other (please specify): video captioning)   \n2020.emnlp-main.739                    (dialogue turn generation)   \n2020.tacl-1.38                          (data-to-text generation)   \nD18-1454                                     (question answering)   \nN19-1126                                     (question answering)   \nN19-1421                                     (question answering)   \nP19-1193               (other (please specify): topic generation)   \nP19-1488                                     (question answering)   \n\nsource_spreadsheet                                              3  \nkey                                                                \n2020.acl-main.711    (other (please specify): sarcasm generation)  \n2020.emnlp-main.61                   (end-to-end text generation)  \n2020.emnlp-main.739                    (dialogue turn generation)  \n2020.tacl-1.38                       (end-to-end text generation)  \nD18-1454                                     (question answering)  \nN19-1126                               (dialogue turn generation)  \nN19-1421                                     (question answering)  \nP19-1193                                (data-to-text generation)  \nP19-1488                                     (question answering)  ",
      "text/html": "<div>\n<style scoped>\n    .dataframe tbody tr th:only-of-type {\n        vertical-align: middle;\n    }\n\n    .dataframe tbody tr th {\n        vertical-align: top;\n    }\n\n    .dataframe thead th {\n        text-align: right;\n    }\n</style>\n<table border=\"1\" class=\"dataframe\">\n  <thead>\n    <tr style=\"text-align: right;\">\n      <th>source_spreadsheet</th>\n      <th>1</th>\n      <th>2</th>\n      <th>3</th>\n    </tr>\n    <tr>\n      <th>key</th>\n      <th></th>\n      <th></th>\n      <th></th>\n    </tr>\n  </thead>\n  <tbody>\n    <tr>\n      <th>2020.acl-main.711</th>\n      <td>(feature-controlled generation)</td>\n      <td>(other (please specify): sarcasm generation)</td>\n      <td>(other (please specify): sarcasm generation)</td>\n    </tr>\n    <tr>\n      <th>2020.emnlp-main.61</th>\n      <td>(deep generation (DLR to text))</td>\n      <td>(other (please specify): video captioning)</td>\n      <td>(end-to-end text generation)</td>\n    </tr>\n    <tr>\n      <th>2020.emnlp-main.739</th>\n      <td>(dialogue turn generation)</td>\n      <td>(dialogue turn generation)</td>\n      <td>(dialogue turn generation)</td>\n    </tr>\n    <tr>\n      <th>2020.tacl-1.38</th>\n      <td>(deep generation (DLR to text))</td>\n      <td>(data-to-text generation)</td>\n      <td>(end-to-end text generation)</td>\n    </tr>\n    <tr>\n      <th>D18-1454</th>\n      <td>(question answering)</td>\n      <td>(question answering)</td>\n      <td>(question answering)</td>\n    </tr>\n    <tr>\n      <th>N19-1126</th>\n      <td>(deep generation (DLR to text))</td>\n      <td>(question answering)</td>\n      <td>(dialogue turn generation)</td>\n    </tr>\n    <tr>\n      <th>N19-1421</th>\n      <td>(question answering)</td>\n      <td>(question answering)</td>\n      <td>(question answering)</td>\n    </tr>\n    <tr>\n      <th>P19-1193</th>\n      <td>(summarisation (text-to-text))</td>\n      <td>(other (please specify): topic generation)</td>\n      <td>(data-to-text generation)</td>\n    </tr>\n    <tr>\n      <th>P19-1488</th>\n      <td>(question answering)</td>\n      <td>(question answering)</td>\n      <td>(question answering)</td>\n    </tr>\n  </tbody>\n</table>\n</div>"
     },
     "metadata": {},
     "output_type": "display_data"
    },
    {
     "data": {
      "text/plain": "'op_response_values'"
     },
     "metadata": {},
     "output_type": "display_data"
    },
    {
     "data": {
      "text/plain": "source_spreadsheet                                                   1  \\\nkey                                                                      \n2020.acl-main.711                                     (1-5, ~*empty*~)   \n2020.emnlp-main.61                                    (1-5, ~*empty*~)   \n2020.emnlp-main.739  (r1 is better, both are similar, r1 is worse, ...   \n2020.tacl-1.38                                                   (1-5)   \nD18-1454                                                   (~*empty*~)   \nN19-1126             (0-3, 0 is a completely incorect sentence and ...   \nN19-1421                                                   (~*empty*~)   \nP19-1193                                                         (1-5)   \nP19-1488             (definitely left, rather left, difficult to sa...   \n\nsource_spreadsheet                                                   2  \\\nkey                                                                      \n2020.acl-main.711                                                (1-5)   \n2020.emnlp-main.61                                               (1-5)   \n2020.emnlp-main.739  (r1 is better, both are similar, r1 is worse, ...   \n2020.tacl-1.38                                                   (1-5)   \nD18-1454                                                   (~*empty*~)   \nN19-1126                                                    (0-3, 1-4)   \nN19-1421                                                   (~*empty*~)   \nP19-1193                                                         (1-5)   \nP19-1488             (definitely left, rather left, difficult to sa...   \n\nsource_spreadsheet                                                   3  \nkey                                                                     \n2020.acl-main.711                                                (1-5)  \n2020.emnlp-main.61                                               (1-5)  \n2020.emnlp-main.739  (r1 is better, both are similar, r1 is worse, ...  \n2020.tacl-1.38                                                   (1-5)  \nD18-1454                                              (0/1, ~*empty*~)  \nN19-1126                                                    (0-3, 1-4)  \nN19-1421                                                   (~*empty*~)  \nP19-1193                                                         (1-5)  \nP19-1488             (definitely left, rather left, difficult to sa...  ",
      "text/html": "<div>\n<style scoped>\n    .dataframe tbody tr th:only-of-type {\n        vertical-align: middle;\n    }\n\n    .dataframe tbody tr th {\n        vertical-align: top;\n    }\n\n    .dataframe thead th {\n        text-align: right;\n    }\n</style>\n<table border=\"1\" class=\"dataframe\">\n  <thead>\n    <tr style=\"text-align: right;\">\n      <th>source_spreadsheet</th>\n      <th>1</th>\n      <th>2</th>\n      <th>3</th>\n    </tr>\n    <tr>\n      <th>key</th>\n      <th></th>\n      <th></th>\n      <th></th>\n    </tr>\n  </thead>\n  <tbody>\n    <tr>\n      <th>2020.acl-main.711</th>\n      <td>(1-5, ~*empty*~)</td>\n      <td>(1-5)</td>\n      <td>(1-5)</td>\n    </tr>\n    <tr>\n      <th>2020.emnlp-main.61</th>\n      <td>(1-5, ~*empty*~)</td>\n      <td>(1-5)</td>\n      <td>(1-5)</td>\n    </tr>\n    <tr>\n      <th>2020.emnlp-main.739</th>\n      <td>(r1 is better, both are similar, r1 is worse, ...</td>\n      <td>(r1 is better, both are similar, r1 is worse, ...</td>\n      <td>(r1 is better, both are similar, r1 is worse, ...</td>\n    </tr>\n    <tr>\n      <th>2020.tacl-1.38</th>\n      <td>(1-5)</td>\n      <td>(1-5)</td>\n      <td>(1-5)</td>\n    </tr>\n    <tr>\n      <th>D18-1454</th>\n      <td>(~*empty*~)</td>\n      <td>(~*empty*~)</td>\n      <td>(0/1, ~*empty*~)</td>\n    </tr>\n    <tr>\n      <th>N19-1126</th>\n      <td>(0-3, 0 is a completely incorect sentence and ...</td>\n      <td>(0-3, 1-4)</td>\n      <td>(0-3, 1-4)</td>\n    </tr>\n    <tr>\n      <th>N19-1421</th>\n      <td>(~*empty*~)</td>\n      <td>(~*empty*~)</td>\n      <td>(~*empty*~)</td>\n    </tr>\n    <tr>\n      <th>P19-1193</th>\n      <td>(1-5)</td>\n      <td>(1-5)</td>\n      <td>(1-5)</td>\n    </tr>\n    <tr>\n      <th>P19-1488</th>\n      <td>(definitely left, rather left, difficult to sa...</td>\n      <td>(definitely left, rather left, difficult to sa...</td>\n      <td>(definitely left, rather left, difficult to sa...</td>\n    </tr>\n  </tbody>\n</table>\n</div>"
     },
     "metadata": {},
     "output_type": "display_data"
    },
    {
     "data": {
      "text/plain": "'op_instrument_size'"
     },
     "metadata": {},
     "output_type": "display_data"
    },
    {
     "data": {
      "text/plain": "source_spreadsheet                  1            2                 3\nkey                                                                 \n2020.acl-main.711    (5.0, ~*empty*~)        (5.0)             (5.0)\n2020.emnlp-main.61         (5.0, 6.0)        (5.0)             (5.0)\n2020.emnlp-main.739             (3.0)        (3.0)             (3.0)\n2020.tacl-1.38                  (5.0)        (5.0)             (5.0)\nD18-1454                  (~*empty*~)  (~*empty*~)  (2.0, ~*empty*~)\nN19-1126                        (4.0)        (4.0)             (4.0)\nN19-1421                  (~*empty*~)  (~*empty*~)       (~*empty*~)\nP19-1193                        (5.0)        (5.0)             (5.0)\nP19-1488                        (5.0)        (5.0)             (5.0)",
      "text/html": "<div>\n<style scoped>\n    .dataframe tbody tr th:only-of-type {\n        vertical-align: middle;\n    }\n\n    .dataframe tbody tr th {\n        vertical-align: top;\n    }\n\n    .dataframe thead th {\n        text-align: right;\n    }\n</style>\n<table border=\"1\" class=\"dataframe\">\n  <thead>\n    <tr style=\"text-align: right;\">\n      <th>source_spreadsheet</th>\n      <th>1</th>\n      <th>2</th>\n      <th>3</th>\n    </tr>\n    <tr>\n      <th>key</th>\n      <th></th>\n      <th></th>\n      <th></th>\n    </tr>\n  </thead>\n  <tbody>\n    <tr>\n      <th>2020.acl-main.711</th>\n      <td>(5.0, ~*empty*~)</td>\n      <td>(5.0)</td>\n      <td>(5.0)</td>\n    </tr>\n    <tr>\n      <th>2020.emnlp-main.61</th>\n      <td>(5.0, 6.0)</td>\n      <td>(5.0)</td>\n      <td>(5.0)</td>\n    </tr>\n    <tr>\n      <th>2020.emnlp-main.739</th>\n      <td>(3.0)</td>\n      <td>(3.0)</td>\n      <td>(3.0)</td>\n    </tr>\n    <tr>\n      <th>2020.tacl-1.38</th>\n      <td>(5.0)</td>\n      <td>(5.0)</td>\n      <td>(5.0)</td>\n    </tr>\n    <tr>\n      <th>D18-1454</th>\n      <td>(~*empty*~)</td>\n      <td>(~*empty*~)</td>\n      <td>(2.0, ~*empty*~)</td>\n    </tr>\n    <tr>\n      <th>N19-1126</th>\n      <td>(4.0)</td>\n      <td>(4.0)</td>\n      <td>(4.0)</td>\n    </tr>\n    <tr>\n      <th>N19-1421</th>\n      <td>(~*empty*~)</td>\n      <td>(~*empty*~)</td>\n      <td>(~*empty*~)</td>\n    </tr>\n    <tr>\n      <th>P19-1193</th>\n      <td>(5.0)</td>\n      <td>(5.0)</td>\n      <td>(5.0)</td>\n    </tr>\n    <tr>\n      <th>P19-1488</th>\n      <td>(5.0)</td>\n      <td>(5.0)</td>\n      <td>(5.0)</td>\n    </tr>\n  </tbody>\n</table>\n</div>"
     },
     "metadata": {},
     "output_type": "display_data"
    },
    {
     "data": {
      "text/plain": "'op_instrument_type'"
     },
     "metadata": {},
     "output_type": "display_data"
    },
    {
     "data": {
      "text/plain": "source_spreadsheet                                                1  \\\nkey                                                                   \n2020.acl-main.711    (rank ordering, Likert scale, text annotation)   \n2020.emnlp-main.61            (Likert scale, output classification)   \n2020.emnlp-main.739                    (zero-centered rating scale)   \n2020.tacl-1.38                                       (Likert scale)   \nD18-1454                                                (~*empty*~)   \nN19-1126                      (Likert scale, output classification)   \nN19-1421                                                (~*empty*~)   \nP19-1193                                                  (unclear)   \nP19-1488                                  (verbal descriptor scale)   \n\nsource_spreadsheet                                        2  \\\nkey                                                           \n2020.acl-main.711                            (Likert scale)   \n2020.emnlp-main.61                           (Likert scale)   \n2020.emnlp-main.739  (rank ordering, output classification)   \n2020.tacl-1.38                               (Likert scale)   \nD18-1454                                          (unclear)   \nN19-1126                      (rank ordering, Likert scale)   \nN19-1421                                        (~*empty*~)   \nP19-1193                                     (Likert scale)   \nP19-1488                                    (rank ordering)   \n\nsource_spreadsheet                                                 3  \nkey                                                                   \n2020.acl-main.711                           (numerical rating scale)  \n2020.emnlp-main.61                          (numerical rating scale)  \n2020.emnlp-main.739                     (zero-centered rating scale)  \n2020.tacl-1.38                              (numerical rating scale)  \nD18-1454                          (output classification, ~*empty*~)  \nN19-1126             (numerical rating scale, output classification)  \nN19-1421                                           (free-text entry)  \nP19-1193                                    (numerical rating scale)  \nP19-1488                                     (output classification)  ",
      "text/html": "<div>\n<style scoped>\n    .dataframe tbody tr th:only-of-type {\n        vertical-align: middle;\n    }\n\n    .dataframe tbody tr th {\n        vertical-align: top;\n    }\n\n    .dataframe thead th {\n        text-align: right;\n    }\n</style>\n<table border=\"1\" class=\"dataframe\">\n  <thead>\n    <tr style=\"text-align: right;\">\n      <th>source_spreadsheet</th>\n      <th>1</th>\n      <th>2</th>\n      <th>3</th>\n    </tr>\n    <tr>\n      <th>key</th>\n      <th></th>\n      <th></th>\n      <th></th>\n    </tr>\n  </thead>\n  <tbody>\n    <tr>\n      <th>2020.acl-main.711</th>\n      <td>(rank ordering, Likert scale, text annotation)</td>\n      <td>(Likert scale)</td>\n      <td>(numerical rating scale)</td>\n    </tr>\n    <tr>\n      <th>2020.emnlp-main.61</th>\n      <td>(Likert scale, output classification)</td>\n      <td>(Likert scale)</td>\n      <td>(numerical rating scale)</td>\n    </tr>\n    <tr>\n      <th>2020.emnlp-main.739</th>\n      <td>(zero-centered rating scale)</td>\n      <td>(rank ordering, output classification)</td>\n      <td>(zero-centered rating scale)</td>\n    </tr>\n    <tr>\n      <th>2020.tacl-1.38</th>\n      <td>(Likert scale)</td>\n      <td>(Likert scale)</td>\n      <td>(numerical rating scale)</td>\n    </tr>\n    <tr>\n      <th>D18-1454</th>\n      <td>(~*empty*~)</td>\n      <td>(unclear)</td>\n      <td>(output classification, ~*empty*~)</td>\n    </tr>\n    <tr>\n      <th>N19-1126</th>\n      <td>(Likert scale, output classification)</td>\n      <td>(rank ordering, Likert scale)</td>\n      <td>(numerical rating scale, output classification)</td>\n    </tr>\n    <tr>\n      <th>N19-1421</th>\n      <td>(~*empty*~)</td>\n      <td>(~*empty*~)</td>\n      <td>(free-text entry)</td>\n    </tr>\n    <tr>\n      <th>P19-1193</th>\n      <td>(unclear)</td>\n      <td>(Likert scale)</td>\n      <td>(numerical rating scale)</td>\n    </tr>\n    <tr>\n      <th>P19-1488</th>\n      <td>(verbal descriptor scale)</td>\n      <td>(rank ordering)</td>\n      <td>(output classification)</td>\n    </tr>\n  </tbody>\n</table>\n</div>"
     },
     "metadata": {},
     "output_type": "display_data"
    },
    {
     "data": {
      "text/plain": "'op_data_type'"
     },
     "metadata": {},
     "output_type": "display_data"
    },
    {
     "data": {
      "text/plain": "source_spreadsheet                             1                          2  \\\nkey                                                                           \n2020.acl-main.711    (text, ordinal, rank order)                  (ordinal)   \n2020.emnlp-main.61        (categorical, ordinal)                  (ordinal)   \n2020.emnlp-main.739   (categorical, ratio-scale)  (categorical, rank order)   \n2020.tacl-1.38                         (ordinal)                  (ordinal)   \nD18-1454                             (~*empty*~)                  (unclear)   \nN19-1126                  (categorical, ordinal)      (rank order, ordinal)   \nN19-1421                             (~*empty*~)                (~*empty*~)   \nP19-1193                               (unclear)                  (ordinal)   \nP19-1488                               (ordinal)               (rank order)   \n\nsource_spreadsheet                          3  \nkey                                            \n2020.acl-main.711                   (ordinal)  \n2020.emnlp-main.61                  (ordinal)  \n2020.emnlp-main.739             (categorical)  \n2020.tacl-1.38                      (ordinal)  \nD18-1454             (categorical, ~*empty*~)  \nN19-1126               (categorical, ordinal)  \nN19-1421                               (text)  \nP19-1193                            (ordinal)  \nP19-1488                        (categorical)  ",
      "text/html": "<div>\n<style scoped>\n    .dataframe tbody tr th:only-of-type {\n        vertical-align: middle;\n    }\n\n    .dataframe tbody tr th {\n        vertical-align: top;\n    }\n\n    .dataframe thead th {\n        text-align: right;\n    }\n</style>\n<table border=\"1\" class=\"dataframe\">\n  <thead>\n    <tr style=\"text-align: right;\">\n      <th>source_spreadsheet</th>\n      <th>1</th>\n      <th>2</th>\n      <th>3</th>\n    </tr>\n    <tr>\n      <th>key</th>\n      <th></th>\n      <th></th>\n      <th></th>\n    </tr>\n  </thead>\n  <tbody>\n    <tr>\n      <th>2020.acl-main.711</th>\n      <td>(text, ordinal, rank order)</td>\n      <td>(ordinal)</td>\n      <td>(ordinal)</td>\n    </tr>\n    <tr>\n      <th>2020.emnlp-main.61</th>\n      <td>(categorical, ordinal)</td>\n      <td>(ordinal)</td>\n      <td>(ordinal)</td>\n    </tr>\n    <tr>\n      <th>2020.emnlp-main.739</th>\n      <td>(categorical, ratio-scale)</td>\n      <td>(categorical, rank order)</td>\n      <td>(categorical)</td>\n    </tr>\n    <tr>\n      <th>2020.tacl-1.38</th>\n      <td>(ordinal)</td>\n      <td>(ordinal)</td>\n      <td>(ordinal)</td>\n    </tr>\n    <tr>\n      <th>D18-1454</th>\n      <td>(~*empty*~)</td>\n      <td>(unclear)</td>\n      <td>(categorical, ~*empty*~)</td>\n    </tr>\n    <tr>\n      <th>N19-1126</th>\n      <td>(categorical, ordinal)</td>\n      <td>(rank order, ordinal)</td>\n      <td>(categorical, ordinal)</td>\n    </tr>\n    <tr>\n      <th>N19-1421</th>\n      <td>(~*empty*~)</td>\n      <td>(~*empty*~)</td>\n      <td>(text)</td>\n    </tr>\n    <tr>\n      <th>P19-1193</th>\n      <td>(unclear)</td>\n      <td>(ordinal)</td>\n      <td>(ordinal)</td>\n    </tr>\n    <tr>\n      <th>P19-1488</th>\n      <td>(ordinal)</td>\n      <td>(rank order)</td>\n      <td>(categorical)</td>\n    </tr>\n  </tbody>\n</table>\n</div>"
     },
     "metadata": {},
     "output_type": "display_data"
    },
    {
     "data": {
      "text/plain": "'op_form'"
     },
     "metadata": {},
     "output_type": "display_data"
    },
    {
     "data": {
      "text/plain": "source_spreadsheet                                                   1  \\\nkey                                                                      \n2020.acl-main.711    ((dis)agreement with quality statement, relati...   \n2020.emnlp-main.61   ((dis)agreement with quality statement, classi...   \n2020.emnlp-main.739      (relative quality estimation, classification)   \n2020.tacl-1.38                 ((dis)agreement with quality statement)   \nD18-1454                                 (relative quality estimation)   \nN19-1126             ((dis)agreement with quality statement, classi...   \nN19-1421                                                     (unclear)   \nP19-1193                                                     (unclear)   \nP19-1488                                   (direct quality estimation)   \n\nsource_spreadsheet                                                   2  \\\nkey                                                                      \n2020.acl-main.711              ((dis)agreement with quality statement)   \n2020.emnlp-main.61             ((dis)agreement with quality statement)   \n2020.emnlp-main.739      (classification, relative quality estimation)   \n2020.tacl-1.38                 ((dis)agreement with quality statement)   \nD18-1454                                                     (unclear)   \nN19-1126             (direct quality estimation, relative quality e...   \nN19-1421                                                   (~*empty*~)   \nP19-1193                       ((dis)agreement with quality statement)   \nP19-1488                                 (relative quality estimation)   \n\nsource_spreadsheet                                          3  \nkey                                                            \n2020.acl-main.711                 (direct quality estimation)  \n2020.emnlp-main.61                (direct quality estimation)  \n2020.emnlp-main.739             (relative quality estimation)  \n2020.tacl-1.38                    (direct quality estimation)  \nD18-1454             (relative quality estimation, ~*empty*~)  \nN19-1126                          (direct quality estimation)  \nN19-1421                      (task performance measurements)  \nP19-1193                          (direct quality estimation)  \nP19-1488                        (relative quality estimation)  ",
      "text/html": "<div>\n<style scoped>\n    .dataframe tbody tr th:only-of-type {\n        vertical-align: middle;\n    }\n\n    .dataframe tbody tr th {\n        vertical-align: top;\n    }\n\n    .dataframe thead th {\n        text-align: right;\n    }\n</style>\n<table border=\"1\" class=\"dataframe\">\n  <thead>\n    <tr style=\"text-align: right;\">\n      <th>source_spreadsheet</th>\n      <th>1</th>\n      <th>2</th>\n      <th>3</th>\n    </tr>\n    <tr>\n      <th>key</th>\n      <th></th>\n      <th></th>\n      <th></th>\n    </tr>\n  </thead>\n  <tbody>\n    <tr>\n      <th>2020.acl-main.711</th>\n      <td>((dis)agreement with quality statement, relati...</td>\n      <td>((dis)agreement with quality statement)</td>\n      <td>(direct quality estimation)</td>\n    </tr>\n    <tr>\n      <th>2020.emnlp-main.61</th>\n      <td>((dis)agreement with quality statement, classi...</td>\n      <td>((dis)agreement with quality statement)</td>\n      <td>(direct quality estimation)</td>\n    </tr>\n    <tr>\n      <th>2020.emnlp-main.739</th>\n      <td>(relative quality estimation, classification)</td>\n      <td>(classification, relative quality estimation)</td>\n      <td>(relative quality estimation)</td>\n    </tr>\n    <tr>\n      <th>2020.tacl-1.38</th>\n      <td>((dis)agreement with quality statement)</td>\n      <td>((dis)agreement with quality statement)</td>\n      <td>(direct quality estimation)</td>\n    </tr>\n    <tr>\n      <th>D18-1454</th>\n      <td>(relative quality estimation)</td>\n      <td>(unclear)</td>\n      <td>(relative quality estimation, ~*empty*~)</td>\n    </tr>\n    <tr>\n      <th>N19-1126</th>\n      <td>((dis)agreement with quality statement, classi...</td>\n      <td>(direct quality estimation, relative quality e...</td>\n      <td>(direct quality estimation)</td>\n    </tr>\n    <tr>\n      <th>N19-1421</th>\n      <td>(unclear)</td>\n      <td>(~*empty*~)</td>\n      <td>(task performance measurements)</td>\n    </tr>\n    <tr>\n      <th>P19-1193</th>\n      <td>(unclear)</td>\n      <td>((dis)agreement with quality statement)</td>\n      <td>(direct quality estimation)</td>\n    </tr>\n    <tr>\n      <th>P19-1488</th>\n      <td>(direct quality estimation)</td>\n      <td>(relative quality estimation)</td>\n      <td>(relative quality estimation)</td>\n    </tr>\n  </tbody>\n</table>\n</div>"
     },
     "metadata": {},
     "output_type": "display_data"
    },
    {
     "data": {
      "text/plain": "'op_question_prompt_verbatim'"
     },
     "metadata": {},
     "output_type": "display_data"
    },
    {
     "data": {
      "text/plain": "source_spreadsheet                                                   1  \\\nkey                                                                      \n2020.acl-main.711    (how creative are the utterances ?, how funny ...   \n2020.emnlp-main.61   (asked to select relevant commonsense descript...   \n2020.emnlp-main.739  (which response do you think is more engaging/...   \n2020.tacl-1.38       (does the text flow in a natural, easy to read...   \nD18-1454             (were the commonsense relations\\nprovided by o...   \nN19-1126             (please select all the options that could be a...   \nN19-1421                                                   (~*empty*~)   \nP19-1193                                                   (~*empty*~)   \nP19-1488             ( the order in which model a and model b appea...   \n\nsource_spreadsheet                                                   2  \\\nkey                                                                      \n2020.acl-main.711    (\"how creative are the utterances ?\", \"how sar...   \n2020.emnlp-main.61                                         (~*empty*~)   \n2020.emnlp-main.739  (\"considering english language fluency only, c...   \n2020.tacl-1.38                                             (not given)   \nD18-1454                                                   (~*empty*~)   \nN19-1126                                                   (~*empty*~)   \nN19-1421                                                   (~*empty*~)   \nP19-1193                                                   (~*empty*~)   \nP19-1488                                                   (~*empty*~)   \n\nsource_spreadsheet                                                   3  \nkey                                                                     \n2020.acl-main.711    (how sarcastic are the utterances?, how creati...  \n2020.emnlp-main.61   (intention of agent's action: judge them in te...  \n2020.emnlp-main.739  (which response do you think is more engaging/...  \n2020.tacl-1.38       (does the text flow in a natural, easy to read...  \nD18-1454             (was any external commonsense knowledge necess...  \nN19-1126             (please select all the options that could be a...  \nN19-1421             (we sampled 100 random questions and for each ...  \nP19-1193                                                   (not given)  \nP19-1488             (which list of facts explains the answer to th...  ",
      "text/html": "<div>\n<style scoped>\n    .dataframe tbody tr th:only-of-type {\n        vertical-align: middle;\n    }\n\n    .dataframe tbody tr th {\n        vertical-align: top;\n    }\n\n    .dataframe thead th {\n        text-align: right;\n    }\n</style>\n<table border=\"1\" class=\"dataframe\">\n  <thead>\n    <tr style=\"text-align: right;\">\n      <th>source_spreadsheet</th>\n      <th>1</th>\n      <th>2</th>\n      <th>3</th>\n    </tr>\n    <tr>\n      <th>key</th>\n      <th></th>\n      <th></th>\n      <th></th>\n    </tr>\n  </thead>\n  <tbody>\n    <tr>\n      <th>2020.acl-main.711</th>\n      <td>(how creative are the utterances ?, how funny ...</td>\n      <td>(\"how creative are the utterances ?\", \"how sar...</td>\n      <td>(how sarcastic are the utterances?, how creati...</td>\n    </tr>\n    <tr>\n      <th>2020.emnlp-main.61</th>\n      <td>(asked to select relevant commonsense descript...</td>\n      <td>(~*empty*~)</td>\n      <td>(intention of agent's action: judge them in te...</td>\n    </tr>\n    <tr>\n      <th>2020.emnlp-main.739</th>\n      <td>(which response do you think is more engaging/...</td>\n      <td>(\"considering english language fluency only, c...</td>\n      <td>(which response do you think is more engaging/...</td>\n    </tr>\n    <tr>\n      <th>2020.tacl-1.38</th>\n      <td>(does the text flow in a natural, easy to read...</td>\n      <td>(not given)</td>\n      <td>(does the text flow in a natural, easy to read...</td>\n    </tr>\n    <tr>\n      <th>D18-1454</th>\n      <td>(were the commonsense relations\\nprovided by o...</td>\n      <td>(~*empty*~)</td>\n      <td>(was any external commonsense knowledge necess...</td>\n    </tr>\n    <tr>\n      <th>N19-1126</th>\n      <td>(please select all the options that could be a...</td>\n      <td>(~*empty*~)</td>\n      <td>(please select all the options that could be a...</td>\n    </tr>\n    <tr>\n      <th>N19-1421</th>\n      <td>(~*empty*~)</td>\n      <td>(~*empty*~)</td>\n      <td>(we sampled 100 random questions and for each ...</td>\n    </tr>\n    <tr>\n      <th>P19-1193</th>\n      <td>(~*empty*~)</td>\n      <td>(~*empty*~)</td>\n      <td>(not given)</td>\n    </tr>\n    <tr>\n      <th>P19-1488</th>\n      <td>( the order in which model a and model b appea...</td>\n      <td>(~*empty*~)</td>\n      <td>(which list of facts explains the answer to th...</td>\n    </tr>\n  </tbody>\n</table>\n</div>"
     },
     "metadata": {},
     "output_type": "display_data"
    },
    {
     "data": {
      "text/plain": "'op_statistics'"
     },
     "metadata": {},
     "output_type": "display_data"
    },
    {
     "data": {
      "text/plain": "source_spreadsheet                                                   1  \\\nkey                                                                      \n2020.acl-main.711                         (median, p value, ~*empty*~)   \n2020.emnlp-main.61   (standard deviation of the ratings, inter-rate...   \n2020.emnlp-main.739                        (cohen’s kappa, percentage)   \n2020.tacl-1.38                           (pair-wise mannwhitney tests)   \nD18-1454                                       (percentage, ~*empty*~)   \nN19-1126                                                   (~*empty*~)   \nN19-1421                                                   (~*empty*~)   \nP19-1193                                                   (~*empty*~)   \nP19-1488                                                   (~*empty*~)   \n\nsource_spreadsheet                          2  \\\nkey                                             \n2020.acl-main.711                      (mean)   \n2020.emnlp-main.61   (std, iras, smooth iras)   \n2020.emnlp-main.739           (cohen's kappa)   \n2020.tacl-1.38                 (mann-whitney)   \nD18-1454                              (blank)   \nN19-1126                               (mean)   \nN19-1421                              (blank)   \nP19-1193                               (mean)   \nP19-1488                              (blank)   \n\nsource_spreadsheet                                                   3  \nkey                                                                     \n2020.acl-main.711                         (p-value, no test mentioned)  \n2020.emnlp-main.61                                (standard deviation)  \n2020.emnlp-main.739                                    (cohen’s kappa)  \n2020.tacl-1.38                           (pair-wise mann-whitney test)  \nD18-1454                                       (percentage, ~*empty*~)  \nN19-1126                                         (average, percentage)  \nN19-1421                            (percentage of accurate responses)  \nP19-1193             (pearson correlation for inter-annotator agree...  \nP19-1488                                                  (percentage)  ",
      "text/html": "<div>\n<style scoped>\n    .dataframe tbody tr th:only-of-type {\n        vertical-align: middle;\n    }\n\n    .dataframe tbody tr th {\n        vertical-align: top;\n    }\n\n    .dataframe thead th {\n        text-align: right;\n    }\n</style>\n<table border=\"1\" class=\"dataframe\">\n  <thead>\n    <tr style=\"text-align: right;\">\n      <th>source_spreadsheet</th>\n      <th>1</th>\n      <th>2</th>\n      <th>3</th>\n    </tr>\n    <tr>\n      <th>key</th>\n      <th></th>\n      <th></th>\n      <th></th>\n    </tr>\n  </thead>\n  <tbody>\n    <tr>\n      <th>2020.acl-main.711</th>\n      <td>(median, p value, ~*empty*~)</td>\n      <td>(mean)</td>\n      <td>(p-value, no test mentioned)</td>\n    </tr>\n    <tr>\n      <th>2020.emnlp-main.61</th>\n      <td>(standard deviation of the ratings, inter-rate...</td>\n      <td>(std, iras, smooth iras)</td>\n      <td>(standard deviation)</td>\n    </tr>\n    <tr>\n      <th>2020.emnlp-main.739</th>\n      <td>(cohen’s kappa, percentage)</td>\n      <td>(cohen's kappa)</td>\n      <td>(cohen’s kappa)</td>\n    </tr>\n    <tr>\n      <th>2020.tacl-1.38</th>\n      <td>(pair-wise mannwhitney tests)</td>\n      <td>(mann-whitney)</td>\n      <td>(pair-wise mann-whitney test)</td>\n    </tr>\n    <tr>\n      <th>D18-1454</th>\n      <td>(percentage, ~*empty*~)</td>\n      <td>(blank)</td>\n      <td>(percentage, ~*empty*~)</td>\n    </tr>\n    <tr>\n      <th>N19-1126</th>\n      <td>(~*empty*~)</td>\n      <td>(mean)</td>\n      <td>(average, percentage)</td>\n    </tr>\n    <tr>\n      <th>N19-1421</th>\n      <td>(~*empty*~)</td>\n      <td>(blank)</td>\n      <td>(percentage of accurate responses)</td>\n    </tr>\n    <tr>\n      <th>P19-1193</th>\n      <td>(~*empty*~)</td>\n      <td>(mean)</td>\n      <td>(pearson correlation for inter-annotator agree...</td>\n    </tr>\n    <tr>\n      <th>P19-1488</th>\n      <td>(~*empty*~)</td>\n      <td>(blank)</td>\n      <td>(percentage)</td>\n    </tr>\n  </tbody>\n</table>\n</div>"
     },
     "metadata": {},
     "output_type": "display_data"
    },
    {
     "data": {
      "text/plain": "'criterion_verbatim'"
     },
     "metadata": {},
     "output_type": "display_data"
    },
    {
     "data": {
      "text/plain": "source_spreadsheet                                                   1  \\\nkey                                                                      \n2020.acl-main.711    (creativity, sarcasticness, humour, ~*empty*~,...   \n2020.emnlp-main.61                                         (relevance)   \n2020.emnlp-main.739        (~*empty*~, engagement, relevance, fluency)   \n2020.tacl-1.38                                     (adequacy, fluency)   \nD18-1454                                    (effectiveness, ~*empty*~)   \nN19-1126                (usefulness, grammatical correctness, fluency)   \nN19-1421                                                    (accuracy)   \nP19-1193             (diversity, novelty, topic-consistency, cohere...   \nP19-1488                                                   (~*empty*~)   \n\nsource_spreadsheet                                                   2  \\\nkey                                                                      \n2020.acl-main.711    (humor, sarcasticness, creativity, grammatical...   \n2020.emnlp-main.61                                          (relevant)   \n2020.emnlp-main.739                   (engagement, relevance, fluency)   \n2020.tacl-1.38                                     (adequacy, fluency)   \nD18-1454                                                   (~*empty*~)   \nN19-1126             (grammatical correctness and fluency, usefulness)   \nN19-1421                                                   (~*empty*~)   \nP19-1193             (diversity, novelty, topic-consistency, cohere...   \nP19-1488                                                   (~*empty*~)   \n\nsource_spreadsheet                                                   3  \nkey                                                                     \n2020.acl-main.711    (sarcasticness, grammaticality, creativity, hu...  \n2020.emnlp-main.61                      (intention, effect, attribute)  \n2020.emnlp-main.739                   (engagement, relevance, fluency)  \n2020.tacl-1.38                                     (adequacy, fluency)  \nD18-1454                                                   (~*empty*~)  \nN19-1126             (grammatical correctness and fluency, usefulness)  \nN19-1421                                                    (accuracy)  \nP19-1193             (diversity, novelty, topic-consistency, cohere...  \nP19-1488                                                   (~*empty*~)  ",
      "text/html": "<div>\n<style scoped>\n    .dataframe tbody tr th:only-of-type {\n        vertical-align: middle;\n    }\n\n    .dataframe tbody tr th {\n        vertical-align: top;\n    }\n\n    .dataframe thead th {\n        text-align: right;\n    }\n</style>\n<table border=\"1\" class=\"dataframe\">\n  <thead>\n    <tr style=\"text-align: right;\">\n      <th>source_spreadsheet</th>\n      <th>1</th>\n      <th>2</th>\n      <th>3</th>\n    </tr>\n    <tr>\n      <th>key</th>\n      <th></th>\n      <th></th>\n      <th></th>\n    </tr>\n  </thead>\n  <tbody>\n    <tr>\n      <th>2020.acl-main.711</th>\n      <td>(creativity, sarcasticness, humour, ~*empty*~,...</td>\n      <td>(humor, sarcasticness, creativity, grammatical...</td>\n      <td>(sarcasticness, grammaticality, creativity, hu...</td>\n    </tr>\n    <tr>\n      <th>2020.emnlp-main.61</th>\n      <td>(relevance)</td>\n      <td>(relevant)</td>\n      <td>(intention, effect, attribute)</td>\n    </tr>\n    <tr>\n      <th>2020.emnlp-main.739</th>\n      <td>(~*empty*~, engagement, relevance, fluency)</td>\n      <td>(engagement, relevance, fluency)</td>\n      <td>(engagement, relevance, fluency)</td>\n    </tr>\n    <tr>\n      <th>2020.tacl-1.38</th>\n      <td>(adequacy, fluency)</td>\n      <td>(adequacy, fluency)</td>\n      <td>(adequacy, fluency)</td>\n    </tr>\n    <tr>\n      <th>D18-1454</th>\n      <td>(effectiveness, ~*empty*~)</td>\n      <td>(~*empty*~)</td>\n      <td>(~*empty*~)</td>\n    </tr>\n    <tr>\n      <th>N19-1126</th>\n      <td>(usefulness, grammatical correctness, fluency)</td>\n      <td>(grammatical correctness and fluency, usefulness)</td>\n      <td>(grammatical correctness and fluency, usefulness)</td>\n    </tr>\n    <tr>\n      <th>N19-1421</th>\n      <td>(accuracy)</td>\n      <td>(~*empty*~)</td>\n      <td>(accuracy)</td>\n    </tr>\n    <tr>\n      <th>P19-1193</th>\n      <td>(diversity, novelty, topic-consistency, cohere...</td>\n      <td>(diversity, novelty, topic-consistency, cohere...</td>\n      <td>(diversity, novelty, topic-consistency, cohere...</td>\n    </tr>\n    <tr>\n      <th>P19-1488</th>\n      <td>(~*empty*~)</td>\n      <td>(~*empty*~)</td>\n      <td>(~*empty*~)</td>\n    </tr>\n  </tbody>\n</table>\n</div>"
     },
     "metadata": {},
     "output_type": "display_data"
    },
    {
     "data": {
      "text/plain": "'criterion_definition_verbatim'"
     },
     "metadata": {},
     "output_type": "display_data"
    },
    {
     "data": {
      "text/plain": "source_spreadsheet                                                   1  \\\nkey                                                                      \n2020.acl-main.711                                          (~*empty*~)   \n2020.emnlp-main.61                                         (~*empty*~)   \n2020.emnlp-main.739  (relevance measures whether the generated outp...   \n2020.tacl-1.38                                             (~*empty*~)   \nD18-1454             (to check the effectiveness of our commonsense...   \nN19-1126             (validate grammatical correctness of different...   \nN19-1421                                                   (~*empty*~)   \nP19-1193                                                   (~*empty*~)   \nP19-1488                                                   (~*empty*~)   \n\nsource_spreadsheet                                                   2  \\\nkey                                                                      \n2020.acl-main.711                                          (~*empty*~)   \n2020.emnlp-main.61   (the workers are asked to provide this rating ...   \n2020.emnlp-main.739  (relevance measures whether the generated outp...   \n2020.tacl-1.38       (\"does the text flow in a natural, easy to rea...   \nD18-1454                                                   (~*empty*~)   \nN19-1126                                                   (~*empty*~)   \nN19-1421                                                   (~*empty*~)   \nP19-1193                                                   (~*empty*~)   \nP19-1488                                                   (~*empty*~)   \n\nsource_spreadsheet                                                   3  \nkey                                                                     \n2020.acl-main.711                                          (~*empty*~)  \n2020.emnlp-main.61   (the attribute of the agent given the action, ...  \n2020.emnlp-main.739  (relevance measures whether the generated outp...  \n2020.tacl-1.38       (does the text clearly express the data?, flue...  \nD18-1454                                                   (~*empty*~)  \nN19-1126                                                   (~*empty*~)  \nN19-1421                                                   (~*empty*~)  \nP19-1193                                                   (~*empty*~)  \nP19-1488             (annotators are asked to compare both lists of...  ",
      "text/html": "<div>\n<style scoped>\n    .dataframe tbody tr th:only-of-type {\n        vertical-align: middle;\n    }\n\n    .dataframe tbody tr th {\n        vertical-align: top;\n    }\n\n    .dataframe thead th {\n        text-align: right;\n    }\n</style>\n<table border=\"1\" class=\"dataframe\">\n  <thead>\n    <tr style=\"text-align: right;\">\n      <th>source_spreadsheet</th>\n      <th>1</th>\n      <th>2</th>\n      <th>3</th>\n    </tr>\n    <tr>\n      <th>key</th>\n      <th></th>\n      <th></th>\n      <th></th>\n    </tr>\n  </thead>\n  <tbody>\n    <tr>\n      <th>2020.acl-main.711</th>\n      <td>(~*empty*~)</td>\n      <td>(~*empty*~)</td>\n      <td>(~*empty*~)</td>\n    </tr>\n    <tr>\n      <th>2020.emnlp-main.61</th>\n      <td>(~*empty*~)</td>\n      <td>(the workers are asked to provide this rating ...</td>\n      <td>(the attribute of the agent given the action, ...</td>\n    </tr>\n    <tr>\n      <th>2020.emnlp-main.739</th>\n      <td>(relevance measures whether the generated outp...</td>\n      <td>(relevance measures whether the generated outp...</td>\n      <td>(relevance measures whether the generated outp...</td>\n    </tr>\n    <tr>\n      <th>2020.tacl-1.38</th>\n      <td>(~*empty*~)</td>\n      <td>(\"does the text flow in a natural, easy to rea...</td>\n      <td>(does the text clearly express the data?, flue...</td>\n    </tr>\n    <tr>\n      <th>D18-1454</th>\n      <td>(to check the effectiveness of our commonsense...</td>\n      <td>(~*empty*~)</td>\n      <td>(~*empty*~)</td>\n    </tr>\n    <tr>\n      <th>N19-1126</th>\n      <td>(validate grammatical correctness of different...</td>\n      <td>(~*empty*~)</td>\n      <td>(~*empty*~)</td>\n    </tr>\n    <tr>\n      <th>N19-1421</th>\n      <td>(~*empty*~)</td>\n      <td>(~*empty*~)</td>\n      <td>(~*empty*~)</td>\n    </tr>\n    <tr>\n      <th>P19-1193</th>\n      <td>(~*empty*~)</td>\n      <td>(~*empty*~)</td>\n      <td>(~*empty*~)</td>\n    </tr>\n    <tr>\n      <th>P19-1488</th>\n      <td>(~*empty*~)</td>\n      <td>(~*empty*~)</td>\n      <td>(annotators are asked to compare both lists of...</td>\n    </tr>\n  </tbody>\n</table>\n</div>"
     },
     "metadata": {},
     "output_type": "display_data"
    },
    {
     "data": {
      "text/plain": "'criterion_paraphrase'"
     },
     "metadata": {},
     "output_type": "display_data"
    },
    {
     "data": {
      "text/plain": "source_spreadsheet                                                   1  \\\nkey                                                                      \n2020.acl-main.711    (detectability of controlled feature [property...   \n2020.emnlp-main.61   (correctness of outputs in their own right (bo...   \n2020.emnlp-main.739  (effect on reader/listener [effect] (specify):...   \n2020.tacl-1.38                                      (clarity, fluency)   \nD18-1454                   (~*empty*~, information content of outputs)   \nN19-1126             (grammaticality, usefulness for task/informati...   \nN19-1421                                                   (~*empty*~)   \nP19-1193             (nonredundancy (both form and content), cohere...   \nP19-1488             (inferrability of speaker/author trait [trait]...   \n\nsource_spreadsheet                                                   2  \\\nkey                                                                      \n2020.acl-main.711    (text property [complexity/simplicity (both fo...   \n2020.emnlp-main.61   (correctness of outputs relative to input (con...   \n2020.emnlp-main.739  (appropriateness (both form and content), flue...   \n2020.tacl-1.38                    (appropriateness (content), fluency)   \nD18-1454                                                   (~*empty*~)   \nN19-1126             (naturalness (form), information content of ou...   \nN19-1421                                                   (~*empty*~)   \nP19-1193             (nonredundancy (both form and content), cohesi...   \nP19-1488                   (correctness of outputs in their own right)   \n\nsource_spreadsheet                                                   3  \nkey                                                                     \n2020.acl-main.711    (grammaticality, text property [property] (spe...  \n2020.emnlp-main.61             (goodness of outputs relative to input)  \n2020.emnlp-main.739  (user satisfaction, goodness of outputs relati...  \n2020.tacl-1.38               (information content of outputs, fluency)  \nD18-1454                               (quality of outputs, ~*empty*~)  \nN19-1126             (multiple (list all): grammaticality, fluency,...  \nN19-1421                                                   (~*empty*~)  \nP19-1193             (text property [property] (specify): diversity...  \nP19-1488                                                       (blank)  ",
      "text/html": "<div>\n<style scoped>\n    .dataframe tbody tr th:only-of-type {\n        vertical-align: middle;\n    }\n\n    .dataframe tbody tr th {\n        vertical-align: top;\n    }\n\n    .dataframe thead th {\n        text-align: right;\n    }\n</style>\n<table border=\"1\" class=\"dataframe\">\n  <thead>\n    <tr style=\"text-align: right;\">\n      <th>source_spreadsheet</th>\n      <th>1</th>\n      <th>2</th>\n      <th>3</th>\n    </tr>\n    <tr>\n      <th>key</th>\n      <th></th>\n      <th></th>\n      <th></th>\n    </tr>\n  </thead>\n  <tbody>\n    <tr>\n      <th>2020.acl-main.711</th>\n      <td>(detectability of controlled feature [property...</td>\n      <td>(text property [complexity/simplicity (both fo...</td>\n      <td>(grammaticality, text property [property] (spe...</td>\n    </tr>\n    <tr>\n      <th>2020.emnlp-main.61</th>\n      <td>(correctness of outputs in their own right (bo...</td>\n      <td>(correctness of outputs relative to input (con...</td>\n      <td>(goodness of outputs relative to input)</td>\n    </tr>\n    <tr>\n      <th>2020.emnlp-main.739</th>\n      <td>(effect on reader/listener [effect] (specify):...</td>\n      <td>(appropriateness (both form and content), flue...</td>\n      <td>(user satisfaction, goodness of outputs relati...</td>\n    </tr>\n    <tr>\n      <th>2020.tacl-1.38</th>\n      <td>(clarity, fluency)</td>\n      <td>(appropriateness (content), fluency)</td>\n      <td>(information content of outputs, fluency)</td>\n    </tr>\n    <tr>\n      <th>D18-1454</th>\n      <td>(~*empty*~, information content of outputs)</td>\n      <td>(~*empty*~)</td>\n      <td>(quality of outputs, ~*empty*~)</td>\n    </tr>\n    <tr>\n      <th>N19-1126</th>\n      <td>(grammaticality, usefulness for task/informati...</td>\n      <td>(naturalness (form), information content of ou...</td>\n      <td>(multiple (list all): grammaticality, fluency,...</td>\n    </tr>\n    <tr>\n      <th>N19-1421</th>\n      <td>(~*empty*~)</td>\n      <td>(~*empty*~)</td>\n      <td>(~*empty*~)</td>\n    </tr>\n    <tr>\n      <th>P19-1193</th>\n      <td>(nonredundancy (both form and content), cohere...</td>\n      <td>(nonredundancy (both form and content), cohesi...</td>\n      <td>(text property [property] (specify): diversity...</td>\n    </tr>\n    <tr>\n      <th>P19-1488</th>\n      <td>(inferrability of speaker/author trait [trait]...</td>\n      <td>(correctness of outputs in their own right)</td>\n      <td>(blank)</td>\n    </tr>\n  </tbody>\n</table>\n</div>"
     },
     "metadata": {},
     "output_type": "display_data"
    }
   ],
   "source": [
    "for column in iaa_utilities.IAAv2SpreadsheetScheme.ALL_DATA_COLUMNS:\n",
    "    display(column)\n",
    "    display(extract_iaa_df_by_column_name(annotation_df, column).pivot(index=\"key\", columns=\"source_spreadsheet\", values=column))\n",
    "\n"
   ]
  }
 ],
 "metadata": {
  "kernelspec": {
   "display_name": "Python 3",
   "language": "python",
   "name": "python3"
  },
  "language_info": {
   "codemirror_mode": {
    "name": "ipython",
    "version": 3
   },
   "file_extension": ".py",
   "mimetype": "text/x-python",
   "name": "python",
   "nbconvert_exporter": "python",
   "pygments_lexer": "ipython3",
   "version": "3.8.5"
  }
 },
 "nbformat": 4,
 "nbformat_minor": 4
}